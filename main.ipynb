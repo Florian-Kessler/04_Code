{
 "cells": [
  {
   "cell_type": "code",
   "execution_count": null,
   "metadata": {
    "collapsed": true
   },
   "outputs": [
    {
     "ename": "KeyboardInterrupt",
     "evalue": "",
     "output_type": "error",
     "traceback": [
      "\u001B[0;31m---------------------------------------------------------------------------\u001B[0m",
      "\u001B[0;31mKeyboardInterrupt\u001B[0m                         Traceback (most recent call last)",
      "Cell \u001B[0;32mIn[1], line 2\u001B[0m\n\u001B[1;32m      1\u001B[0m \u001B[38;5;28;01mimport\u001B[39;00m \u001B[38;5;21;01mReadRawMHD\u001B[39;00m \u001B[38;5;28;01mas\u001B[39;00m \u001B[38;5;21;01mrR\u001B[39;00m\n\u001B[0;32m----> 2\u001B[0m \u001B[38;5;28;01mimport\u001B[39;00m \u001B[38;5;21;01mtest_delete_\u001B[39;00m \u001B[38;5;28;01mas\u001B[39;00m \u001B[38;5;21;01mtest\u001B[39;00m\n\u001B[1;32m      3\u001B[0m \u001B[38;5;28;01mimport\u001B[39;00m \u001B[38;5;21;01mnumpy\u001B[39;00m \u001B[38;5;28;01mas\u001B[39;00m \u001B[38;5;21;01mnp\u001B[39;00m\n\u001B[1;32m      4\u001B[0m \u001B[38;5;28;01mimport\u001B[39;00m \u001B[38;5;21;01mmatplotlib\u001B[39;00m\u001B[38;5;21;01m.\u001B[39;00m\u001B[38;5;21;01mpyplot\u001B[39;00m \u001B[38;5;28;01mas\u001B[39;00m \u001B[38;5;21;01mplt\u001B[39;00m\n",
      "File \u001B[0;32m~/Documents/01_Icotec/04_Code/test_delete_.py:416\u001B[0m\n\u001B[1;32m    413\u001B[0m \u001B[38;5;28mprint\u001B[39m(\u001B[38;5;124m'\u001B[39m\u001B[38;5;124ma)\u001B[39m\u001B[38;5;124m'\u001B[39m)\n\u001B[1;32m    415\u001B[0m \u001B[38;5;66;03m# Create a mask form bone mesh created in Abaqus\u001B[39;00m\n\u001B[0;32m--> 416\u001B[0m bone \u001B[38;5;241m=\u001B[39m \u001B[43mboneMeshMask\u001B[49m\u001B[43m(\u001B[49m\u001B[43mbone\u001B[49m\u001B[43m,\u001B[49m\u001B[43m \u001B[49m\u001B[43mpath_mesh\u001B[49m\u001B[43m,\u001B[49m\u001B[43m \u001B[49m\u001B[43mstl_file\u001B[49m\u001B[43m,\u001B[49m\u001B[43m \u001B[49m\u001B[38;5;241;43m0.0607\u001B[39;49m\u001B[43m)\u001B[49m  \u001B[38;5;66;03m# , controlplot=True)\u001B[39;00m\n\u001B[1;32m    417\u001B[0m \u001B[38;5;28mprint\u001B[39m(\u001B[38;5;124m'\u001B[39m\u001B[38;5;124mb)\u001B[39m\u001B[38;5;124m'\u001B[39m)\n\u001B[1;32m    419\u001B[0m mask \u001B[38;5;241m=\u001B[39m ct\u001B[38;5;241m.\u001B[39mload_itk(\u001B[38;5;124mf\u001B[39m\u001B[38;5;124m'\u001B[39m\u001B[38;5;132;01m{\u001B[39;00mpath_mesh\u001B[38;5;132;01m}\u001B[39;00m\u001B[38;5;124m/BoneTest.mhd\u001B[39m\u001B[38;5;124m'\u001B[39m)\n",
      "File \u001B[0;32m~/Documents/01_Icotec/04_Code/test_delete_.py:254\u001B[0m, in \u001B[0;36mboneMeshMask\u001B[0;34m(bone, path, filename, resolution, mask_name, controlplot, reshape, closing)\u001B[0m\n\u001B[1;32m    251\u001B[0m ugrid \u001B[38;5;241m=\u001B[39m pv\u001B[38;5;241m.\u001B[39mUnstructuredGrid(grid)\n\u001B[1;32m    253\u001B[0m \u001B[38;5;66;03m# get part of the mesh within the mesh's bounding surface.\u001B[39;00m\n\u001B[0;32m--> 254\u001B[0m selection \u001B[38;5;241m=\u001B[39m \u001B[43mugrid\u001B[49m\u001B[38;5;241;43m.\u001B[39;49m\u001B[43mselect_enclosed_points\u001B[49m\u001B[43m(\u001B[49m\u001B[43mmesh\u001B[49m\u001B[38;5;241;43m.\u001B[39;49m\u001B[43mextract_surface\u001B[49m\u001B[43m(\u001B[49m\u001B[43m)\u001B[49m\u001B[43m,\u001B[49m\u001B[43m \u001B[49m\u001B[43mtolerance\u001B[49m\u001B[38;5;241;43m=\u001B[39;49m\u001B[38;5;241;43m0.0\u001B[39;49m\u001B[43m,\u001B[49m\u001B[43m \u001B[49m\u001B[43mcheck_surface\u001B[49m\u001B[38;5;241;43m=\u001B[39;49m\u001B[38;5;28;43;01mFalse\u001B[39;49;00m\u001B[43m)\u001B[49m\n\u001B[1;32m    255\u001B[0m mask_ \u001B[38;5;241m=\u001B[39m selection\u001B[38;5;241m.\u001B[39mpoint_data[\u001B[38;5;124m'\u001B[39m\u001B[38;5;124mSelectedPoints\u001B[39m\u001B[38;5;124m'\u001B[39m]\u001B[38;5;241m.\u001B[39mview(np\u001B[38;5;241m.\u001B[39mbool_)\n\u001B[1;32m    257\u001B[0m \u001B[38;5;28;01mif\u001B[39;00m reshape \u001B[38;5;241m==\u001B[39m \u001B[38;5;28;01mTrue\u001B[39;00m:\n\u001B[1;32m    258\u001B[0m     \u001B[38;5;66;03m# sometimes the order of the matrix gets changed\u001B[39;00m\n",
      "File \u001B[0;32m~/Documents/01_Icotec/04_Code/venv/lib/python3.10/site-packages/pyvista/core/filters/data_set.py:2845\u001B[0m, in \u001B[0;36mDataSetFilters.select_enclosed_points\u001B[0;34m(self, surface, tolerance, inside_out, check_surface, progress_bar)\u001B[0m\n\u001B[1;32m   2843\u001B[0m alg\u001B[38;5;241m.\u001B[39mSetTolerance(tolerance)\n\u001B[1;32m   2844\u001B[0m alg\u001B[38;5;241m.\u001B[39mSetInsideOut(inside_out)\n\u001B[0;32m-> 2845\u001B[0m \u001B[43m_update_alg\u001B[49m\u001B[43m(\u001B[49m\u001B[43malg\u001B[49m\u001B[43m,\u001B[49m\u001B[43m \u001B[49m\u001B[43mprogress_bar\u001B[49m\u001B[43m,\u001B[49m\u001B[43m \u001B[49m\u001B[38;5;124;43m'\u001B[39;49m\u001B[38;5;124;43mSelecting Enclosed Points\u001B[39;49m\u001B[38;5;124;43m'\u001B[39;49m\u001B[43m)\u001B[49m\n\u001B[1;32m   2846\u001B[0m result \u001B[38;5;241m=\u001B[39m _get_output(alg)\n\u001B[1;32m   2847\u001B[0m out \u001B[38;5;241m=\u001B[39m \u001B[38;5;28mself\u001B[39m\u001B[38;5;241m.\u001B[39mcopy()\n",
      "File \u001B[0;32m~/Documents/01_Icotec/04_Code/venv/lib/python3.10/site-packages/pyvista/core/filters/__init__.py:36\u001B[0m, in \u001B[0;36m_update_alg\u001B[0;34m(alg, progress_bar, message)\u001B[0m\n\u001B[1;32m     34\u001B[0m         alg\u001B[38;5;241m.\u001B[39mUpdate()\n\u001B[1;32m     35\u001B[0m \u001B[38;5;28;01melse\u001B[39;00m:\n\u001B[0;32m---> 36\u001B[0m     \u001B[43malg\u001B[49m\u001B[38;5;241;43m.\u001B[39;49m\u001B[43mUpdate\u001B[49m\u001B[43m(\u001B[49m\u001B[43m)\u001B[49m\n",
      "\u001B[0;31mKeyboardInterrupt\u001B[0m: "
     ]
    }
   ],
   "source": [
    "import ReadRawMHD as rR\n",
    "import test_delete_ as test\n",
    "import numpy as np\n",
    "import matplotlib.pyplot as plt\n",
    "import time\n",
    "t1 = time.time()"
   ]
  },
  {
   "cell_type": "code",
   "execution_count": null,
   "outputs": [],
   "source": [
    "# # # # # Input # # # # #\n",
    "# Input imaging data\n",
    "sample = 'Pilot3'  # sample folder\n",
    "bone = 'XCT_Icotec_S130672_L5_intact_planned.mhd'  # gray value bone ct scan\n",
    "inst = 'ICOTEC_S130672_L5_implants_XCTres.mhd'  # segmented screw scan"
   ],
   "metadata": {
    "collapsed": false
   }
  },
  {
   "cell_type": "code",
   "execution_count": null,
   "outputs": [],
   "source": [
    "# # # # # Input # # # # #\n",
    "# Input FEA data\n",
    "\n"
   ],
   "metadata": {
    "collapsed": false
   }
  },
  {
   "cell_type": "code",
   "execution_count": null,
   "outputs": [],
   "source": [
    "# Specify file locations\n",
    "loc_ct = '/home/biomech/Documents/01_Icotec/01_Experiments/02_Scans/' + sample + '/04_Registered/'\n",
    "loc_fea = 'home/biomech/Documents/01_Icotec/02_FEA/99_Tests/' + sample\n",
    "info = sample + '.txt'  # .txt file containing info about landmarks. Specific structure"
   ],
   "metadata": {
    "collapsed": false
   }
  },
  {
   "cell_type": "code",
   "execution_count": null,
   "outputs": [],
   "source": [
    "# Load data\n",
    "im0 = rR.load_itk(loc_ct + bone)\n",
    "imD = rR.load_itk(loc_ct + inst)\n",
    "with open(loc_ct + info, 'r') as f:\n",
    "    content = f.read()\n",
    "ori = content.split('Origin: ')[1].split('\\n')[0]\n",
    "ori = np.array([int(ori.split(' ')[0]), int(ori.split(' ')[1]), int(ori.split(' ')[2])])\n",
    "p1P = content.split('positive x axis: ')[1].split('\\n')[0]\n",
    "p1P = np.array([int(p1P.split(' ')[0]), int(p1P.split(' ')[1]), int(p1P.split(' ')[2])])\n",
    "p1N = content.split('negative x axis: ')[1].split('\\n')[0]\n",
    "p1N = np.array([int(p1N.split(' ')[0]), int(p1N.split(' ')[1]), int(p1N.split(' ')[2])])"
   ],
   "metadata": {
    "collapsed": false
   }
  },
  {
   "cell_type": "code",
   "execution_count": null,
   "outputs": [],
   "source": [
    "# # # # # Input # # # # #\n",
    "# Define screw vector\n",
    "lineT = rR.axis3D(imD[0], 670, 1100, 'x')  # if starting from screw tip towards head, add (-) in next line\n",
    "v3 = -lineT.vector  # z-axis = screw axis, found by function. Specify +/-!!"
   ],
   "metadata": {
    "collapsed": false
   }
  },
  {
   "cell_type": "code",
   "execution_count": null,
   "outputs": [],
   "source": [
    "# Compute matrix\n",
    "v2 = np.cross(p1P-p1N, v3)/np.linalg.norm(np.cross(p1P-p1N, v3))  # y-axis\n",
    "v1 = np.cross(v2, v3)  # x-axis\n",
    "M = np.vstack((np.append(v1, ori[0]), np.append(v2, ori[1]), np.append(v3, ori[2]), np.array([0, 0, 0, 1])))\n",
    "print(M)"
   ],
   "metadata": {
    "collapsed": false
   }
  },
  {
   "cell_type": "code",
   "execution_count": null,
   "outputs": [],
   "source": [
    "# Check coordinate system\n",
    "# z-axis (blue) should point from screw head (origin) towards screw tip (dot)\n",
    "# y-axis should be perpendicular to screw-rotAxis plane and point upwards (against loading direction)\n",
    "# x-axis: right-handed coordinate system\n",
    "plt.figure()\n",
    "ax = plt.axes(projection='3d')\n",
    "fact = 100\n",
    "for i in range(-0, 5):\n",
    "    ax.scatter3D(ori[0]+i*fact*v1[0], ori[1]+i*fact*v1[1], ori[2]+i*fact*v1[2], c='r', alpha=1)\n",
    "    ax.scatter3D(ori[0]+i*fact*v2[0], ori[1]+i*fact*v2[1], ori[2]+i*fact*v2[2], c='g', alpha=1)\n",
    "    ax.scatter3D(ori[0]+i*fact*v3[0], ori[1]+i*fact*v3[1], ori[2]+i*fact*v3[2], c='b', alpha=1)\n",
    "ax.scatter3D(p1P[0], p1P[1], p1P[2], c='b')\n",
    "ax.scatter3D([0, 1500], [0, 1500], [0, 1500], alpha=0)\n",
    "ax.scatter3D(686, 480, 177, c='k', alpha=1)  # Ti tip\n",
    "plt.show()"
   ],
   "metadata": {
    "collapsed": false
   }
  },
  {
   "cell_type": "code",
   "execution_count": null,
   "outputs": [],
   "source": [
    "# to do: proceed with fea part here. create separate script with test_delete functions"
   ],
   "metadata": {
    "collapsed": false
   }
  },
  {
   "cell_type": "code",
   "execution_count": null,
   "outputs": [],
   "source": [
    "print('Execution time: ' + str(int((time.time()-t1)/60)) + ' min '+ str(round(np.mod(time.time()-t1, 60), 1)) + ' sec.')"
   ],
   "metadata": {
    "collapsed": false
   }
  }
 ],
 "metadata": {
  "kernelspec": {
   "display_name": "Python 3",
   "language": "python",
   "name": "python3"
  },
  "language_info": {
   "codemirror_mode": {
    "name": "ipython",
    "version": 2
   },
   "file_extension": ".py",
   "mimetype": "text/x-python",
   "name": "python",
   "nbconvert_exporter": "python",
   "pygments_lexer": "ipython2",
   "version": "2.7.6"
  }
 },
 "nbformat": 4,
 "nbformat_minor": 0
}
