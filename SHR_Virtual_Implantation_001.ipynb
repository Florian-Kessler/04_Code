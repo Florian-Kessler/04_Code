{
 "cells": [
  {
   "cell_type": "code",
   "execution_count": null,
   "outputs": [],
   "source": [
    "import matplotlib.pyplot as plt\n",
    "import numpy as np\n",
    "import pandas as pd\n",
    "import pyvista as pv\n",
    "import SimpleITK as sitk\n",
    "import scipy\n",
    "from stl import mesh\n",
    "# import stltovoxel\n",
    "from scipy.ndimage import zoom\n",
    "from skimage import filters\n",
    "from skimage import exposure\n",
    "import skimage.morphology as morph\n",
    "from MedtoolFunctions import medtool_functions as mf"
   ],
   "metadata": {
    "collapsed": false,
    "pycharm": {
     "is_executing": true
    }
   }
  },
  {
   "cell_type": "code",
   "execution_count": null,
   "outputs": [],
   "source": [
    "# Functions\n",
    "def load_itk(filename):\n",
    "\n",
    "    # Reads the image using SimpleITK\n",
    "    itkimage = sitk.ReadImage(filename)\n",
    "\n",
    "    # Convert the image to a  numpy array first and then shuffle the dimensions to get axis in the order z,y,x\n",
    "    ct_scan = sitk.GetArrayFromImage(itkimage)\n",
    "    ct_scan = np.transpose(ct_scan, (2, 1, 0))\n",
    "\n",
    "    # Read the origin of the ct_scan, will be used to convert the coordinates from world to voxel and vice versa.\n",
    "    origin = np.array(list(reversed(itkimage.GetOrigin())))\n",
    "\n",
    "    # Read the spacing along each dimension\n",
    "    spacing = np.array(list(reversed(itkimage.GetSpacing())))\n",
    "\n",
    "    ct_trans = np.transpose(ct_scan, (1, 0, 2))\n",
    "    ct_trans = ct_trans.astype(np.short)\n",
    "\n",
    "    return ct_scan, origin, spacing"
   ],
   "metadata": {
    "collapsed": false,
    "pycharm": {
     "is_executing": true
    }
   }
  },
  {
   "cell_type": "code",
   "execution_count": null,
   "outputs": [],
   "source": [
    "# Load the bone file for implantation\n",
    "\n",
    "file = 'S131318_L4_left_screw_image.mhd'\n",
    "path_bone = '/home/biomech/Documents/01_Icotec/01_Experiments/02_Scans/S131318_L4_left/04_Registered/'\n",
    "zoom = 0.5\n",
    "file = path_bone + file\n",
    "# load bone sample\n",
    "data_orig = load_itk(file)\n",
    "data_img_orig = data_orig[0]\n",
    "data_img_orig.shape"
   ],
   "metadata": {
    "collapsed": false,
    "pycharm": {
     "is_executing": true
    }
   }
  },
  {
   "cell_type": "code",
   "execution_count": null,
   "outputs": [],
   "source": [
    "plt.imshow(data_img_orig[:, int(data_img_orig.shape[1]/2), :])"
   ],
   "metadata": {
    "collapsed": false,
    "pycharm": {
     "is_executing": true
    }
   }
  },
  {
   "cell_type": "code",
   "execution_count": null,
   "outputs": [],
   "source": [
    "plt.imshow(data_img_orig[int(data_img_orig.shape[0]/2), :, :])"
   ],
   "metadata": {
    "collapsed": false,
    "pycharm": {
     "is_executing": true
    }
   }
  },
  {
   "cell_type": "code",
   "execution_count": null,
   "outputs": [],
   "source": [
    "data_img = scipy.ndimage.zoom(data_img_orig, zoom)\n",
    "plt.imshow(data_img[int(data_img.shape[0]/2), :, :])\n",
    "reso = data_orig[2] / zoom"
   ],
   "metadata": {
    "collapsed": false,
    "pycharm": {
     "is_executing": true
    }
   }
  },
  {
   "cell_type": "markdown",
   "source": [
    "### Create mask for virtual implantation / insertion\n"
   ],
   "metadata": {
    "collapsed": false
   }
  },
  {
   "cell_type": "code",
   "execution_count": null,
   "outputs": [],
   "source": [
    "# Load implant\n",
    "path_implant = '/home/biomech/Documents/01_Icotec/02_FEA/01_MainStudy/S131318_L4_left/94_OSTP/'\n",
    "#path_implant = '/home/biomech/Documents/01_Icotec/02_FEA/01_MainStudy/S131318_L4_left/81_L50_S50_D45_expl/'\n",
    "#implant = 'S131318_L4_left_screw.mhd'\n",
    "implant = '94_OSTP_mask.mhd'\n",
    "#screw ='NA'\n",
    "#reso = 0.0606995 / zoom\n",
    "imp_data_orig = load_itk(path_implant + implant)\n",
    "imp_img = scipy.ndimage.zoom(imp_data_orig[0], zoom)\n",
    "imp_img = np.flip(np.swapaxes(imp_img, 0, 2), 1)\n",
    "imp_img = imp_img[:, ::-1, :]\n",
    "print(imp_img.shape)\n",
    "sitk.WriteImage(sitk.GetImageFromArray(imp_img), '/home/biomech/Downloads/FE_test/screw_test.mhd')"
   ],
   "metadata": {
    "collapsed": false,
    "pycharm": {
     "is_executing": true
    }
   }
  },
  {
   "cell_type": "code",
   "execution_count": null,
   "outputs": [],
   "source": [
    "# Cut the upper part according to the offset\n",
    "#path_simInfo = 'C:/Users/kirta/OneDrive - Universitaet Bern/01_MBArtorg/2021_Projects/2021_Schroedinger/04_SampleInfos/05_IMG_cropped_orientation/'\n",
    "#file_rot = path_simInfo + sample + '_PILOT_CUTsimInfo.txt'\n",
    "#df = pd.read_csv(file_rot)\n",
    "#h = df.startPoint\n",
    "#h = int(np.round(h * 0.0245/0.072, 0))\n",
    "\n",
    "#L_tot = int(round(12.50 / 0.072, 0))\n",
    "#start = int(L_tot + h)\n",
    "#imp_img = imp_img[:,:, :start]\n",
    "\n",
    "#imp_img = np.swapaxes(imp_img, 2, 0)\n",
    "\n",
    "plt.imshow(imp_img[:, int(imp_img.shape[1]/2), :])\n"
   ],
   "metadata": {
    "collapsed": false,
    "pycharm": {
     "is_executing": true
    }
   }
  },
  {
   "cell_type": "code",
   "execution_count": null,
   "outputs": [],
   "source": [
    "#L_tot * 0.072"
   ],
   "metadata": {
    "collapsed": false,
    "pycharm": {
     "is_executing": true
    }
   }
  },
  {
   "cell_type": "code",
   "execution_count": null,
   "outputs": [],
   "source": [
    "#imp_img.shape, L_tot"
   ],
   "metadata": {
    "collapsed": false,
    "pycharm": {
     "is_executing": true
    }
   }
  },
  {
   "cell_type": "code",
   "execution_count": null,
   "outputs": [],
   "source": [
    "# Enlargement of the implant - so there will be a small gap between implant and bone for the start of the simulation\n",
    "\n",
    "# defines the size of the gap\n",
    "blow = 2\n",
    "\n",
    "add_l = np.zeros([imp_img.shape[0], imp_img.shape[1], blow])\n",
    "mask = np.concatenate([add_l, imp_img, add_l], 2)\n",
    "\n",
    "add_x = np.zeros([blow, mask.shape[1], mask.shape[2]])\n",
    "mask = np.concatenate([add_x, mask, add_x], 0)\n",
    "\n",
    "add_y = np.zeros([mask.shape[0], blow, mask.shape[2]])\n",
    "mask = np.concatenate([add_y, mask, add_y], 1)#[blow:-blow, blow:-blow, blow:-blow]\n",
    "\n",
    "footprint = morph.ball(blow)\n",
    "mask_zoom = morph.dilation(mask, footprint)#[blow:-blow, blow:-blow, blow:-blow]\n",
    "\n",
    "diff_mask = mask_zoom - mask\n",
    "#mask_zoom = mask_zoom[blow:-blow, blow:-blow, blow:-blow]\n",
    "\n",
    "print(imp_img.shape, mask_zoom.shape, mask.shape)"
   ],
   "metadata": {
    "collapsed": false,
    "pycharm": {
     "is_executing": true
    }
   }
  },
  {
   "cell_type": "code",
   "execution_count": null,
   "outputs": [],
   "source": [
    "plt.imshow(diff_mask[:, int(diff_mask.shape[1]/2), :])"
   ],
   "metadata": {
    "collapsed": false,
    "pycharm": {
     "is_executing": true
    }
   }
  },
  {
   "cell_type": "code",
   "execution_count": null,
   "outputs": [],
   "source": [
    "plt.imshow(diff_mask[int(diff_mask.shape[0]/2), : ,  :])"
   ],
   "metadata": {
    "collapsed": false,
    "pycharm": {
     "is_executing": true
    }
   }
  },
  {
   "cell_type": "code",
   "execution_count": null,
   "outputs": [],
   "source": [
    "plt.imshow(diff_mask[ : , :, int(diff_mask.shape[2]/2)])"
   ],
   "metadata": {
    "collapsed": false,
    "pycharm": {
     "is_executing": true
    }
   }
  },
  {
   "cell_type": "code",
   "execution_count": null,
   "outputs": [],
   "source": [
    "# Match the mask to the same size as the bone\n",
    "# Real origin\n",
    "Orig_vox = [np.rint(-data_orig[1]/reso).astype(int)[2],\n",
    "            np.rint(-data_orig[1]/reso).astype(int)[1],\n",
    "            np.rint(-data_orig[1]/reso).astype(int)[0]]\n",
    "orig_vox = [Orig_vox[0], Orig_vox[1], Orig_vox[2]-blow]\n",
    "print(Orig_vox)\n",
    "print(orig_vox)\n",
    "print(mask_zoom.shape)\n",
    "print(data_img.shape)"
   ],
   "metadata": {
    "collapsed": false,
    "pycharm": {
     "is_executing": true
    }
   }
  },
  {
   "cell_type": "code",
   "execution_count": null,
   "outputs": [],
   "source": [
    "\n",
    "#add1 = np.zeros([int((data_img.shape[0] - mask_zoom.shape[0]) / 2), mask_zoom.shape[1], mask_zoom.shape[2]])\n",
    "#add2 = np.zeros([int((data_img.shape[0] - mask_zoom.shape[0]) / 2), mask_zoom.shape[1], mask_zoom.shape[2]])\n",
    "add1 = np.zeros([orig_vox[0] - int(mask_zoom.shape[0]/2), mask_zoom.shape[1], mask_zoom.shape[2]])\n",
    "add2 = np.zeros([data_img.shape[0] - orig_vox[0] - int(mask_zoom.shape[0]/2), mask_zoom.shape[1], mask_zoom.shape[2]])\n",
    "mask_zoom2 = np.concatenate([add1, mask_zoom, add2], 0)\n",
    "\n",
    "plt.imshow(mask_zoom2[:, :, int(mask_zoom2.shape[2]/2)])\n"
   ],
   "metadata": {
    "collapsed": false,
    "pycharm": {
     "is_executing": true
    }
   }
  },
  {
   "cell_type": "code",
   "execution_count": null,
   "outputs": [],
   "source": [
    "mask_zoom.shape  #, add1.shape, add2.shape"
   ],
   "metadata": {
    "collapsed": false,
    "pycharm": {
     "is_executing": true
    }
   }
  },
  {
   "cell_type": "code",
   "execution_count": null,
   "outputs": [],
   "source": [
    "\n",
    "#add5 = np.zeros([mask_zoom.shape[0], mask_zoom.shape[1], int((data_img.shape[2] - mask_zoom.shape[2]) / 2)])\n",
    "\n",
    "print(mask_zoom2.shape[2])\n",
    "print(orig_vox[2])\n",
    "if mask_zoom2.shape[2] > orig_vox[2]:\n",
    "    mask_zoom22 = mask_zoom2[:, :, mask_zoom2.shape[2] - orig_vox[2]:]\n",
    "add5 = np.zeros([mask_zoom22.shape[0], mask_zoom22.shape[1], orig_vox[2] - mask_zoom22.shape[2]])\n",
    "#add6 = np.zeros([mask_zoom.shape[0], mask_zoom.shape[1], int((data_img.shape[2] - mask_zoom.shape[2]) / 2)])\n",
    "add6 = np.zeros([mask_zoom22.shape[0], mask_zoom22.shape[1], data_img.shape[2] - orig_vox[2]])\n",
    "mask_zoom3 = np.concatenate([add5, mask_zoom22, add6], 2)\n",
    "\n",
    "#if mask_zoom.shape[2] < data_img.shape[2]:\n",
    "#    diff = data_img.shape[2] - mask_zoom.shape[2]\n",
    "#    add6_ = np.zeros([mask_zoom.shape[0], mask_zoom.shape[1], int(diff)])\n",
    "#    mask_zoom = np.concatenate([mask_zoom, add6_], 2)\n",
    "\n",
    "plt.imshow(mask_zoom3[orig_vox[0], :, :])"
   ],
   "metadata": {
    "collapsed": false,
    "pycharm": {
     "is_executing": true
    }
   }
  },
  {
   "cell_type": "code",
   "execution_count": null,
   "outputs": [],
   "source": [
    "print(mask_zoom3.shape)\n",
    "print(orig_vox)\n",
    "#, add5.shape, add6.shape"
   ],
   "metadata": {
    "collapsed": false,
    "pycharm": {
     "is_executing": true
    }
   }
  },
  {
   "cell_type": "markdown",
   "source": [],
   "metadata": {
    "collapsed": false
   }
  },
  {
   "cell_type": "code",
   "execution_count": null,
   "outputs": [],
   "source": [
    "# Add material at the bottem\n",
    "#add4 = np.zeros([mask_zoom.shape[0], int(data_img.shape[1] - mask_zoom.shape[1]), mask_zoom.shape[2]])\n",
    "print(orig_vox[1])\n",
    "print(mask_zoom3.shape[1]/2)\n",
    "print(data_img.shape[1])\n",
    "add3 = np.zeros([mask_zoom3.shape[0], orig_vox[1] - int(mask_zoom3.shape[1]/2), mask_zoom3.shape[2]])\n",
    "add4 = np.zeros([mask_zoom3.shape[0], data_img.shape[1] - orig_vox[1] - int(mask_zoom3.shape[1]/2), mask_zoom3.shape[2]])\n",
    "mask_zoom4 = np.concatenate([add3, mask_zoom3, add4], 1)\n",
    "\n",
    "plt.imshow(mask_zoom4[orig_vox[0], :, :])"
   ],
   "metadata": {
    "collapsed": false,
    "pycharm": {
     "is_executing": true
    }
   }
  },
  {
   "cell_type": "code",
   "execution_count": null,
   "outputs": [],
   "source": [
    "plt.imshow(mask_zoom4[:, :, orig_vox[2]-1])"
   ],
   "metadata": {
    "collapsed": false,
    "pycharm": {
     "is_executing": true
    }
   }
  },
  {
   "cell_type": "code",
   "execution_count": null,
   "outputs": [],
   "source": [
    "mask_zoom4.shape"
   ],
   "metadata": {
    "collapsed": false,
    "pycharm": {
     "is_executing": true
    }
   }
  },
  {
   "cell_type": "code",
   "execution_count": null,
   "outputs": [],
   "source": [
    "# Combine screw mask with bone\n",
    "mask_zoom4_ = np.abs(mask_zoom4-1)\n",
    "data_bvtv = np.array((data_img > 320).astype(int))\n",
    "vir_img = np.array(mask_zoom4_ * data_img)\n",
    "\n",
    "val = filters.threshold_otsu(data_img)\n",
    "print(val)\n",
    "hist, bins_center = exposure.histogram(data_img)\n",
    "vir_bvtv = np.array((vir_img > val).astype(int))\n",
    "plt.figure()\n",
    "plt.plot(bins_center, hist, lw=2)\n",
    "plt.axvline(val, color='k', ls='--')\n",
    "plt.show()"
   ],
   "metadata": {
    "collapsed": false,
    "pycharm": {
     "is_executing": true
    }
   }
  },
  {
   "cell_type": "code",
   "execution_count": null,
   "outputs": [],
   "source": [
    "plt.imshow(vir_bvtv[orig_vox[0], :, :]*-2+data_bvtv[orig_vox[0], :, :], cmap='seismic')"
   ],
   "metadata": {
    "collapsed": false,
    "pycharm": {
     "is_executing": true
    }
   }
  },
  {
   "cell_type": "code",
   "execution_count": null,
   "outputs": [],
   "source": [
    "plt.imshow(vir_bvtv[orig_vox[0], :, :]*2 + mask_zoom4[orig_vox[0], :, :], cmap='gray')"
   ],
   "metadata": {
    "collapsed": false,
    "pycharm": {
     "is_executing": true
    }
   }
  },
  {
   "cell_type": "code",
   "execution_count": null,
   "outputs": [],
   "source": [
    "plt.imshow(vir_bvtv[:, orig_vox[1], :]*2 + mask_zoom4[:, orig_vox[1], :], cmap='gray')"
   ],
   "metadata": {
    "collapsed": false,
    "pycharm": {
     "is_executing": true
    }
   }
  },
  {
   "cell_type": "code",
   "execution_count": null,
   "outputs": [],
   "source": [
    "mask_dim = [-5.75, 5.75,\n",
    "            -8.75, 8.75,\n",
    "            -40, 5]\n",
    "roi_dim_vox = np.rint(mask_dim / reso[1]).astype(int)\n",
    "orig_vox_roi = [-roi_dim_vox[0], -roi_dim_vox[2], -roi_dim_vox[4]+blow]\n",
    "print(roi_dim_vox)\n",
    "vir_bvtv_roi = vir_bvtv[orig_vox[0]+roi_dim_vox[0]:orig_vox[0]+roi_dim_vox[1],\n",
    "                        orig_vox[1]+roi_dim_vox[2]:orig_vox[1]+roi_dim_vox[3],\n",
    "                        orig_vox[2]+roi_dim_vox[4]:orig_vox[2]+roi_dim_vox[5]]\n",
    "mask_zoom4_roi = mask_zoom4[orig_vox[0]+roi_dim_vox[0]:orig_vox[0]+roi_dim_vox[1],\n",
    "                            orig_vox[1]+roi_dim_vox[2]:orig_vox[1]+roi_dim_vox[3],\n",
    "                            orig_vox[2]+roi_dim_vox[4]:orig_vox[2]+roi_dim_vox[5]]\n",
    "\n",
    "add1 = np.zeros([orig_vox[0] - int(mask.shape[0]/2), mask.shape[1], mask.shape[2]])\n",
    "add2 = np.zeros([data_img.shape[0] - orig_vox[0] - int(mask.shape[0]/2), mask.shape[1], mask.shape[2]])\n",
    "mask_roi0 = np.concatenate([add1, mask, add2], 0)\n",
    "\n",
    "add3 = np.zeros([mask_roi0.shape[0], orig_vox[1] - int(mask_roi0.shape[1]/2), mask_roi0.shape[2]])\n",
    "add4 = np.zeros([mask_roi0.shape[0], data_img.shape[1] - orig_vox[1] - int(mask_roi0.shape[1]/2), mask_roi0.shape[2]])\n",
    "mask_roi1 = np.concatenate([add3, mask_roi0, add4], 1)\n",
    "\n",
    "\n",
    "if mask_roi1.shape[2] > orig_vox[2]:\n",
    "    mask_roi11 = mask_roi1[:, :, mask_roi1.shape[2] - orig_vox[2]:]\n",
    "add5 = np.zeros([mask_roi11.shape[0], mask_roi11.shape[1], orig_vox[2] - mask_roi11.shape[2]])\n",
    "\n",
    "add6 = np.zeros([mask_roi11.shape[0], mask_roi11.shape[1], data_img.shape[2] - orig_vox[2]])\n",
    "\n",
    "mask_roi2 = np.concatenate([add5, mask_roi11, add6], 2)\n",
    "\n",
    "mask_roi = mask_roi2[orig_vox[0]+roi_dim_vox[0]:orig_vox[0]+roi_dim_vox[1],\n",
    "                            orig_vox[1]+roi_dim_vox[2]:orig_vox[1]+roi_dim_vox[3],\n",
    "                            orig_vox[2]+roi_dim_vox[4]:orig_vox[2]+roi_dim_vox[5]]\n",
    "\n",
    "print(mask_zoom4_roi.shape)\n",
    "print(vir_bvtv_roi.shape)\n",
    "print(mask_roi.shape)\n",
    "print(mask.shape)"
   ],
   "metadata": {
    "collapsed": false,
    "pycharm": {
     "is_executing": true
    }
   }
  },
  {
   "cell_type": "code",
   "execution_count": null,
   "outputs": [],
   "source": [
    "plt.imshow(vir_bvtv_roi[int(vir_bvtv_roi.shape[0]/2), :, :]*2 + mask_roi[int(vir_bvtv_roi.shape[0]/2), :, :], cmap='gray')\n",
    "plt.scatter(orig_vox_roi[2], orig_vox_roi[1], color='r')"
   ],
   "metadata": {
    "collapsed": false,
    "pycharm": {
     "is_executing": true
    }
   }
  },
  {
   "cell_type": "code",
   "execution_count": null,
   "outputs": [],
   "source": [
    "plt.imshow(vir_bvtv_roi[:, int(vir_bvtv_roi.shape[1]/2), :]*2 + mask_roi[:, int(vir_bvtv_roi.shape[1]/2), :], cmap='gray')\n",
    "plt.scatter(orig_vox_roi[2], orig_vox_roi[0], color='r')"
   ],
   "metadata": {
    "collapsed": false,
    "pycharm": {
     "is_executing": true
    }
   }
  },
  {
   "cell_type": "code",
   "execution_count": null,
   "outputs": [],
   "source": [
    "# Create .mhd of mesh image\n",
    "\n",
    "origin = [0, 0, 0]\n",
    "spacing = np.array([1, 1, 1]) * reso[1]\n",
    "cylinder_trans = vir_bvtv_roi.astype(np.short)\n",
    "itkimage = sitk.GetImageFromArray(np.transpose(cylinder_trans, [2, 1, 0]), isVector=None)\n",
    "itkimage.SetSpacing(spacing)\n",
    "itkimage.SetOrigin(origin)\n",
    "\n",
    "mask_trans = mask_roi.astype(np.short)\n",
    "itkmask = sitk.GetImageFromArray(np.transpose(mask_trans ,[2, 1, 0]), isVector=None)\n",
    "itkmask.SetSpacing(spacing)\n",
    "itkmask.SetOrigin(origin)\n",
    "\n",
    "path_to_local_folder = '/home/biomech/Downloads/FE_test/'\n",
    "reso_ = '0' + str(reso[1]).split('.')[-1]\n",
    "sitk.WriteImage(itkimage, path_to_local_folder + 'Mesh_' + 'test' + '_' + reso_ + '_test00.mhd')\n",
    "sitk.WriteImage(itkmask, path_to_local_folder + 'Implant_mask_' + reso_ + '.mhd')"
   ],
   "metadata": {
    "collapsed": false,
    "pycharm": {
     "is_executing": true
    }
   }
  },
  {
   "cell_type": "code",
   "execution_count": null,
   "outputs": [],
   "source": [
    "# Creat abaqus mesh\n",
    "\n",
    "def mesh(img, path, storage, name, template):\n",
    "    img = path + img\n",
    "\n",
    "    img, origin, spacing = load_itk(img)\n",
    "\n",
    "    inpName = storage + name\n",
    "\n",
    "    mf.writeAbaqusGeneral(inpName, img, spacing, templateFile=template, smooth=None)\n",
    "\n",
    "sample = 'test'\n",
    "screw = 'ico'\n",
    "\n",
    "img = 'Mesh_' + sample + '_' + reso_ + '_test00.mhd'\n",
    "path = path_to_local_folder\n",
    "# template = 'C:/Users/kirta/OneDrive - Universitaet Bern/01_MBArtorg/2021_Projects/2021_Schroedinger/' \\\n",
    "#            '03_Simulations/01_Meshes/mesh_temp_home.inp'\n",
    "template = path + 'mesh_temp.inp'\n",
    "mesh(img, path, path, 'Mesh_' + sample + '_' + reso_ + screw + 'test0.inp', template)"
   ],
   "metadata": {
    "collapsed": false,
    "pycharm": {
     "is_executing": true
    }
   }
  },
  {
   "cell_type": "code",
   "execution_count": null,
   "outputs": [],
   "source": [
    "img_screw = 'Implant_mask_' + reso_ + '.mhd'\n",
    "path = path_to_local_folder\n",
    "template = path + 'mesh_temp.inp'\n",
    "mesh(img_screw, path, path, 'Mesh_' + sample + '_' + reso_ + screw + 'screw.inp', template)"
   ],
   "metadata": {
    "collapsed": false,
    "pycharm": {
     "is_executing": true
    }
   }
  }
 ],
 "metadata": {
  "kernelspec": {
   "display_name": "Python 3",
   "language": "python",
   "name": "python3"
  },
  "language_info": {
   "codemirror_mode": {
    "name": "ipython",
    "version": 2
   },
   "file_extension": ".py",
   "mimetype": "text/x-python",
   "name": "python",
   "nbconvert_exporter": "python",
   "pygments_lexer": "ipython2",
   "version": "2.7.6"
  }
 },
 "nbformat": 4,
 "nbformat_minor": 0
}
