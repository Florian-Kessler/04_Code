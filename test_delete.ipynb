{
 "cells": [
  {
   "cell_type": "code",
   "execution_count": null,
   "metadata": {
    "collapsed": true
   },
   "outputs": [],
   "source": [
    "import numpy as np\n"
   ]
  },
  {
   "cell_type": "code",
   "execution_count": null,
   "outputs": [],
   "source": [
    "def HFE_inp_creator(inp, mat):\n",
    "    outfile = open(inp['inpName'] + '.inp', 'w')\n",
    "    f_inpDummy = open(inp['template'])\n",
    "    f_eleSets = open(inp['elsets'])\n",
    "    f_material = open(inp['materials'])\n",
    "\n",
    "    for lines in f_inpDummy:  # works but complicated, using line = line.replace() could shorten it significantly\n",
    "        if '*Solid Section, elset=Set-Impl, material=PEEK' not in lines:\n",
    "            outfile.write(lines)\n",
    "        if '*Solid Section, elset=Set-Bone, material=Bone' in lines:\n",
    "            for lines_sets in f_eleSets:\n",
    "                outfile.write(lines_sets)\n",
    "            print('Element sets added.')\n",
    "        if '0., 0.06,   1.,   1.,   1.' in lines:\n",
    "            for lines_mat in f_material:\n",
    "                outfile.write(lines_mat)\n",
    "            print('Material properties added.')\n",
    "        if '*Solid Section, elset=Set-Impl, material=PEEK' in lines:\n",
    "            # print('Section found.')\n",
    "            if mat == 'Ti':\n",
    "                # outfile.truncate()\n",
    "                outfile.write('*Solid Section, elset=Set-Impl, material=Ti\\n')\n",
    "                print('Section set to Ti.')\n",
    "            elif mat == 'PEEK':\n",
    "                outfile.write('*Solid Section, elset=Set-Impl, material=PEEK\\n')\n",
    "                print('Section set to PEEK.')\n",
    "    outfile.close()\n",
    "\n",
    "    print(\"End HFE_inp_creator\")\n"
   ],
   "metadata": {
    "collapsed": false
   }
  },
  {
   "cell_type": "code",
   "execution_count": null,
   "outputs": [],
   "source": [
    "\n",
    "mapp.HFE_inp_creator(Input, 'PEEK')\n"
   ],
   "metadata": {
    "collapsed": false
   }
  }
 ],
 "metadata": {
  "kernelspec": {
   "display_name": "Python 3",
   "language": "python",
   "name": "python3"
  },
  "language_info": {
   "codemirror_mode": {
    "name": "ipython",
    "version": 2
   },
   "file_extension": ".py",
   "mimetype": "text/x-python",
   "name": "python",
   "nbconvert_exporter": "python",
   "pygments_lexer": "ipython2",
   "version": "2.7.6"
  }
 },
 "nbformat": 4,
 "nbformat_minor": 0
}
