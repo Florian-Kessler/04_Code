{
 "cells": [
  {
   "cell_type": "code",
   "execution_count": 27,
   "metadata": {
    "collapsed": true
   },
   "outputs": [],
   "source": [
    "import ReadRawMHD as RR\n",
    "import numpy as np"
   ]
  },
  {
   "cell_type": "code",
   "execution_count": 28,
   "outputs": [],
   "source": [
    "loc = '/home/biomech/Documents/01_Icotec/01_Experiments/02_Scans/Pilot3/04_Registered/'\n",
    "bone = 'XCT_Icotec_S130672_L5_intact_planned.mhd'\n",
    "inst = 'ICOTEC_S130672_L5_implants_XCTres.mhd'"
   ],
   "metadata": {
    "collapsed": false
   }
  },
  {
   "cell_type": "code",
   "execution_count": 29,
   "outputs": [],
   "source": [
    "im0 = RR.load_itk(loc + bone)\n",
    "imD = RR.load_itk(loc + inst)\n",
    "lineT = RR.axis3D(imD[0], 670, 1100, 0, 0)"
   ],
   "metadata": {
    "collapsed": false
   }
  },
  {
   "cell_type": "code",
   "execution_count": 31,
   "outputs": [
    {
     "name": "stdout",
     "output_type": "stream",
     "text": [
      "[[-7.91777893e-01  5.34755369e-02 -6.08463749e-01 -1.33535091e+03]\n",
      " [ 2.25184329e-02  9.98038607e-01  5.84111263e-02  5.22183419e+02]\n",
      " [ 6.10393879e-01  3.25469884e-02 -7.91429091e-01  9.98370437e+01]\n",
      " [ 0.00000000e+00  0.00000000e+00  0.00000000e+00  1.00000000e+00]]\n"
     ]
    }
   ],
   "source": [
    "# p0 = np.array([764, 453, 1130])  # origin, screw shaft\n",
    "p0 = np.array([1130, 453, 764])  # origin, screw shaft\n",
    "# p1 = np.array([188, 471, 702])\n",
    "# p1 = np.array([702, 471, 188])\n",
    "# p2 = np.array([820, 474, 54])  # point on rotation axis\n",
    "p2 = np.array([54, 474, 820])  # point on rotation axis\n",
    "v1 = -lineT.vector\n",
    "v2 = np.cross(v1, p2-p0)/np.linalg.norm(np.cross(v1, p2-p0))\n",
    "v3 = np.cross(v1, v2)\n",
    "rotation_matrix = np.vstack((np.append(v1, 0), np.append(v2, 0), np.append(v3, 0), np.array([0, 0, 0, 1])))\n",
    "translation_matrix = np.array([[1, 0, 0, p0[0]],\n",
    "                               [0, 1, 0, p0[1]],\n",
    "                               [0, 0, 1, p0[2]],\n",
    "                               [0, 0, 0,    1]])\n",
    "COS_CT = np.dot(rotation_matrix, translation_matrix)\n",
    "COS_FE = np.eye(4)\n",
    "print(COS_CT)"
   ],
   "metadata": {
    "collapsed": false
   }
  }
 ],
 "metadata": {
  "kernelspec": {
   "display_name": "Python 3",
   "language": "python",
   "name": "python3"
  },
  "language_info": {
   "codemirror_mode": {
    "name": "ipython",
    "version": 2
   },
   "file_extension": ".py",
   "mimetype": "text/x-python",
   "name": "python",
   "nbconvert_exporter": "python",
   "pygments_lexer": "ipython2",
   "version": "2.7.6"
  }
 },
 "nbformat": 4,
 "nbformat_minor": 0
}
