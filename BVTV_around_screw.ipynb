{
 "cells": [
  {
   "cell_type": "code",
   "execution_count": 3,
   "metadata": {
    "collapsed": true
   },
   "outputs": [],
   "source": [
    "import mapping_noRot as mappNR\n",
    "import numpy as np\n",
    "import matplotlib.pyplot as plt\n",
    "import matplotlib.cm as cm\n",
    "import SimpleITK as sitk\n",
    "import time\n",
    "import os"
   ]
  },
  {
   "cell_type": "code",
   "execution_count": 5,
   "outputs": [],
   "source": [
    "sample_list = ['S130684_L2_left', 'S130684_L2_right',\n",
    "               'S131318_L1_left', 'S131318_L1_right', 'S131318_L2_left', 'S131318_L2_right',\n",
    "               'S131318_L3_left', 'S131318_L3_right', 'S131318_L4_left', 'S131318_L4_right',\n",
    "               'S131318_L5_left', 'S131318_L5_right',\n",
    "               'S131788_L1_left', 'S131788_L1_right', 'S131788_L2_left', 'S131788_L2_right',\n",
    "               'S131788_L3_left', 'S131788_L3_right', 'S131788_L4_left', 'S131788_L4_right',\n",
    "               'S131835_L1_left', 'S131835_L1_right', 'S131835_L2_left', 'S131835_L2_right',\n",
    "               'S131835_L3_left', 'S131835_L3_right', 'S131835_L4_left', 'S131835_L4_right',\n",
    "               'S131840_L1_left', 'S131840_L1_right', 'S131840_L2_left', 'S131840_L2_right',\n",
    "               'S131840_L3_left', 'S131840_L3_right']"
   ],
   "metadata": {
    "collapsed": false
   }
  },
  {
   "cell_type": "code",
   "execution_count": 6,
   "outputs": [],
   "source": [
    "sample_code = sample_list[0]\n",
    "path_project = '/home/biomech/Documents/01_Icotec/'  # General project folder\n",
    "path_ct = path_project + '01_Experiments/02_Scans/' + sample_code + '/04_Registered/'  # Folder of CT dat\n",
    "res = 0.0606995"
   ],
   "metadata": {
    "collapsed": false
   }
  },
  {
   "cell_type": "code",
   "execution_count": 15,
   "outputs": [
    {
     "name": "stdout",
     "output_type": "stream",
     "text": [
      "-824\n",
      "0\n",
      "165\n",
      "70562134.49503525\n"
     ]
    }
   ],
   "source": [
    "# Area to evaluate\n",
    "r_mm = 10  # radius in mm\n",
    "r = int(np.rint(r_mm / res))\n",
    "length = np.rint(np.array([-50, 0]) / res).astype(int)\n",
    "print(min(length))\n",
    "print(max(length))\n",
    "print(r)\n",
    "print(825*165**2*np.pi)"
   ],
   "metadata": {
    "collapsed": false
   }
  },
  {
   "cell_type": "code",
   "execution_count": 16,
   "outputs": [
    {
     "name": "stdout",
     "output_type": "stream",
     "text": [
      "70451176\n",
      "19282424\n",
      "0.7851147842056933\n"
     ]
    }
   ],
   "source": [
    "i=0\n",
    "j=0\n",
    "for z in range(min(length), max(length)):\n",
    "    for y in range(-r, r):\n",
    "        for x in range(-r, r):\n",
    "            if x**2 + y**2 <= r**2:\n",
    "                i = i+1\n",
    "            else:\n",
    "                j = j+1\n",
    "print(i)\n",
    "print(j)\n",
    "print(i/(i+j))"
   ],
   "metadata": {
    "collapsed": false
   }
  },
  {
   "cell_type": "code",
   "execution_count": null,
   "outputs": [],
   "source": [],
   "metadata": {
    "collapsed": false
   }
  }
 ],
 "metadata": {
  "kernelspec": {
   "display_name": "Python 3",
   "language": "python",
   "name": "python3"
  },
  "language_info": {
   "codemirror_mode": {
    "name": "ipython",
    "version": 2
   },
   "file_extension": ".py",
   "mimetype": "text/x-python",
   "name": "python",
   "nbconvert_exporter": "python",
   "pygments_lexer": "ipython2",
   "version": "2.7.6"
  }
 },
 "nbformat": 4,
 "nbformat_minor": 0
}
