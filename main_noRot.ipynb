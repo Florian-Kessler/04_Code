{
 "cells": [
  {
   "cell_type": "code",
   "execution_count": 1,
   "metadata": {
    "collapsed": true
   },
   "outputs": [],
   "source": [
    "#import ReadRawMHD as rR\n",
    "import mapping_noRot as mappNR\n",
    "import numpy as np\n",
    "#import matplotlib.pyplot as plt\n",
    "import SimpleITK as sitk\n",
    "import time\n",
    "import os\n",
    "t1 = time.time()"
   ]
  },
  {
   "cell_type": "code",
   "execution_count": 2,
   "outputs": [
    {
     "name": "stdout",
     "output_type": "stream",
     "text": [
      "Model: 80_L50_S50_D45\n"
     ]
    }
   ],
   "source": [
    "# # # # # Input # # # # #\n",
    "# Input imaging data\n",
    "# FE version\n",
    "models = ['00_L50_S50_D30', '01_L50_S50_D35', '02_L50_S50_D40', '03_L50_S50_D45', '04_L50_S50_D27',  # 0, 1, 2, 3, 5\n",
    "          '10_L50_S00_D30', '11_L50_S00_D35', '12_L50_S00_D40', '13_L50_S00_D45', '14_L50_S00_D27', '15_L50_S00_D44',\n",
    "          '31_L50_S50_D35', '43_L50_S00_D45',  # 11, 12\n",
    "          '50_L50_S00_D30', '55_L50_S00_D30',  # 13, 14\n",
    "          '63_L50_S50_D45', '74_L50_S50_D45', '75_L50_S50_D45',  '76_L50_S50_D45', '77_L50_S50_D45',  # 15, 16, 17, 18, 19\n",
    "          '80_L50_S50_D45', '83_L50_S50_D45']  # 20, 21\n",
    "\n",
    "\n",
    "model_code = models[20]  # FEA model name\n",
    "print('Model: ' + str(model_code))\n",
    "sample_code = 'S131318_L5_right'  # Experimental sample. contains number and sample name\n",
    "ExpScrew = 'P'  # T or P, site from experiment. Two input files (SimScrew Ti and PEEK) will always be generated"
   ],
   "metadata": {
    "collapsed": false
   }
  },
  {
   "cell_type": "code",
   "execution_count": 3,
   "outputs": [
    {
     "name": "stdout",
     "output_type": "stream",
     "text": [
      "['S131318_L5_right_screw_image.raw', 'S131318_L5_right_screw_image.mhd']\n",
      "S131318_L5_right_screw_image.mhd\n"
     ]
    }
   ],
   "source": [
    "# Specify file locations\n",
    "#---sample_no, sample = sample_code.split('_')  # sample name and number\n",
    "path_project = '/home/biomech/Documents/01_Icotec/'  # General project folder\n",
    "path_ct = path_project + '01_Experiments/02_Scans/' + sample_code + '/04_Registered/'  # Folder of CT data\n",
    "path_fea = path_project + '02_FEA/98_Pilots/' + sample_code + '/' + model_code + '/'  # Folder of FEA files\n",
    "print(os.listdir(path_ct + '/'))\n",
    "file_bone = [filename for filename in os.listdir(path_ct + '/') if filename.endswith('image.mhd') and str(sample_code) in filename][0]\n",
    "print(file_bone)"
   ],
   "metadata": {
    "collapsed": false
   }
  },
  {
   "cell_type": "code",
   "execution_count": 4,
   "outputs": [],
   "source": [
    "# # # # # Input # # # # #\n",
    "# Input FEA data\n",
    "Input = {}\n",
    "Input['Project_Folder'] = path_project\n",
    "Input['FEA_loc'] = path_fea  # path to FEA files\n",
    "Input['Model_Code'] = model_code  # model code (FEA model name)\n",
    "Input['Screw'] = ExpScrew  # which site of scan will be processed\n",
    "Input['Resolution'] = 0.0606995  # scan resolution, should be 0.0606995 for HR-pQCT II\n",
    "\n",
    "Input['Load_mode'] = 'd'  # no effect 'd' or 'f', displacement or force controlled\n",
    "## ********* EXCLUDED (line 357 in mapping.py)\n",
    "\n",
    "Input['d_dir'] = '-'  # displ direction (negative corresponds to experiment, positive = inverse). Input: '-' or '+'\n",
    "Input['d_max'] = 1  # peak displ\n",
    "\n",
    "\n",
    "Input['Friction'] = 0.2  # friction between screw and bone\n",
    "Input['Mapping_Diameter'] = 3.0  # diameter of sphere for mapping, in mm. should be larger than element size\n",
    "\n",
    "# Check if folder exists, otherwise create it\n",
    "isExist = os.path.exists(Input['FEA_loc'])\n",
    "if not isExist:\n",
    "    os.makedirs(Input['FEA_loc'])\n",
    "    print('New directory created: ' + Input['FEA_loc'])\n",
    "\n",
    "# Submit on cortex or ubelix?\n",
    "# -> Other parameters as e-mail, runtime, memory etc. can be changed in the template file\n",
    "Input['Submit'] = 'ubelix'\n",
    "mappNR.write_submit(Input)\n",
    "\n",
    "# Take screw axis or points from PMMA area\n",
    "screw_axis = 1\n",
    "\n",
    "# Write output images? segmented image and mask, for visual check\n",
    "write_output = 1"
   ],
   "metadata": {
    "collapsed": false
   }
  },
  {
   "cell_type": "code",
   "execution_count": 5,
   "outputs": [
    {
     "name": "stdout",
     "output_type": "stream",
     "text": [
      "Finished extracting mesh file.\n"
     ]
    }
   ],
   "source": [
    "# Write mesh input file\n",
    "mappNR.write_mesh(Input)  # Original input file, path for mesh.inp\n"
   ],
   "metadata": {
    "collapsed": false
   }
  },
  {
   "cell_type": "code",
   "execution_count": 6,
   "outputs": [
    {
     "name": "stdout",
     "output_type": "stream",
     "text": [
      "Image read.\n",
      "Transpose.\n",
      "Segmented.\n",
      "BoneMeshMask\n"
     ]
    }
   ],
   "source": [
    "bone = {}\n",
    "bone = mappNR.readInpBoneDummy(bone, Input)  # Read bone mesh from abaqus. Read elements, nodes\n",
    "bone = mappNR.load_BVTVdata(bone, path_ct + file_bone)\n",
    "bone = mappNR.boneMeshMask(bone, Input)  # Create mask from abaqus bone mesh"
   ],
   "metadata": {
    "collapsed": false
   }
  },
  {
   "cell_type": "code",
   "execution_count": 7,
   "outputs": [
    {
     "name": "stdout",
     "output_type": "stream",
     "text": [
      "(-13.9025, -23.2523, -50.6232)\n"
     ]
    }
   ],
   "source": [
    "# Read mask\n",
    "imMask = sitk.ReadImage(Input['FEA_loc'] + Input['Model_Code'] + Input['Screw'] + '_mask.mhd')\n",
    "imMask_np = np.transpose(sitk.GetArrayFromImage(imMask), [2, 1, 0])\n",
    "print(bone[\"GreyImage\"].GetOrigin())\n",
    "#center = np.array([imMask_np.shape[0] / 2, imMask_np.shape[1] / 2, 0]) * imMask.GetSpacing()"
   ],
   "metadata": {
    "collapsed": false
   }
  },
  {
   "cell_type": "code",
   "execution_count": 8,
   "outputs": [
    {
     "name": "stdout",
     "output_type": "stream",
     "text": [
      "Segmented image saved.\n",
      "Transformed mask saved.\n",
      "Original mask saved.\n"
     ]
    }
   ],
   "source": [
    "\n",
    "\n",
    "bone['MASK'] = imMask_np\n",
    "if write_output:\n",
    "    img_seg=sitk.GetImageFromArray(np.transpose(bone['BVTVscaled'], [2, 1, 0]))\n",
    "    img_seg.SetOrigin(bone[\"GreyImage\"].GetOrigin())\n",
    "    img_seg.SetSpacing(bone[\"GreyImage\"].GetSpacing())\n",
    "    sitk.WriteImage(img_seg, path_fea + sample_code + '_seg.mhd')\n",
    "    print('Segmented image saved.')\n",
    "    #imMask_trans.SetOrigin(bone[\"GreyImage\"].GetOrigin())\n",
    "    #imMask_trans.SetSpacing(bone[\"GreyImage\"].GetSpacing())\n",
    "    #sitk.WriteImage(imMask_trans, path_fea + model_code + '_' + ExpScrew + '_maskTrans.mhd')\n",
    "    print('Transformed mask saved.')\n",
    "    print('Original mask saved.')\n",
    "    del img_seg\n",
    "else:\n",
    "    os.remove(path_fea + model_code + ExpScrew + '_mask.mhd')\n",
    "    os.remove(path_fea + model_code + ExpScrew + '_mask.raw')\n",
    "del bone['GreyImage']"
   ],
   "metadata": {
    "collapsed": false
   }
  },
  {
   "cell_type": "code",
   "execution_count": 9,
   "outputs": [
    {
     "name": "stdout",
     "output_type": "stream",
     "text": [
      "... start material mapping with copying boundary layers as ghost layers\n",
      "\n",
      "numpy.shape(ROI), ROIsize, xc, yc, zc\n",
      "\n",
      "(49, 49, 49)\n",
      "49.423475162232556\n",
      "24.71173758111628\n",
      "24.71173758111628\n",
      "24.711737581116267\n",
      "... material mapping element 1/4388\n",
      "numpy.shape(ROI), ROIsize, xc, yc, zc\n",
      "\n",
      "(49, 50, 49)\n",
      "49.423475162232556\n",
      "24.71173758111628\n",
      "24.71173758111628\n",
      "24.711737581116267\n",
      "... material mapping element 2/4388\n",
      "numpy.shape(ROI), ROIsize, xc, yc, zc\n",
      "\n",
      "(49, 49, 49)\n",
      "49.423475162232556\n",
      "24.71173758111628\n",
      "24.71173758111628\n",
      "24.711737581116267\n",
      "... material mapping element 3/4388\n",
      "numpy.shape(ROI), ROIsize, xc, yc, zc\n",
      "\n",
      "(49, 50, 49)\n",
      "49.423475162232556\n",
      "24.71173758111628\n",
      "24.71173758111628\n",
      "24.711737581116267\n",
      "... material mapping element 4/4388\n",
      "numpy.shape(ROI), ROIsize, xc, yc, zc\n",
      "\n",
      "(49, 50, 49)\n",
      "49.423475162232556\n",
      "24.71173758111628\n",
      "24.71173758111628\n",
      "24.711737581116267\n",
      "... material mapping element 5/4388\n",
      "numpy.shape(ROI), ROIsize, xc, yc, zc\n",
      "\n",
      "(50, 49, 49)\n",
      "49.423475162232556\n",
      "24.71173758111628\n",
      "24.71173758111628\n",
      "24.711737581116267\n",
      "... material mapping element 6/4388\n",
      "numpy.shape(ROI), ROIsize, xc, yc, zc\n",
      "\n",
      "(49, 50, 49)\n",
      "49.423475162232556\n",
      "24.71173758111628\n",
      "24.71173758111628\n",
      "24.711737581116267\n",
      "... material mapping element 7/4388\n",
      "numpy.shape(ROI), ROIsize, xc, yc, zc\n",
      "\n",
      "(49, 50, 49)\n",
      "49.423475162232556\n",
      "24.71173758111628\n",
      "24.71173758111628\n",
      "24.711737581116267\n",
      "... material mapping element 8/4388\n",
      "numpy.shape(ROI), ROIsize, xc, yc, zc\n",
      "\n",
      "(50, 49, 49)\n",
      "49.423475162232556\n",
      "24.71173758111628\n",
      "24.71173758111628\n",
      "24.711737581116267\n",
      "... material mapping element 9/4388\n",
      "numpy.shape(ROI), ROIsize, xc, yc, zc\n",
      "\n",
      "(49, 50, 49)\n",
      "49.423475162232556\n",
      "24.71173758111628\n",
      "24.71173758111628\n",
      "24.711737581116267\n",
      "... material mapping element 10/4388\n",
      "numpy.shape(ROI), ROIsize, xc, yc, zc\n",
      "\n",
      "(49, 49, 49)\n",
      "49.423475162232556\n",
      "24.71173758111628\n",
      "24.71173758111628\n",
      "24.711737581116267\n",
      "... material mapping element 11/4388\n",
      "numpy.shape(ROI), ROIsize, xc, yc, zc\n",
      "\n",
      "(50, 50, 49)\n",
      "49.423475162232556\n",
      "24.71173758111628\n",
      "24.71173758111628\n",
      "24.711737581116267\n",
      "... material mapping element 12/4388\n",
      "numpy.shape(ROI), ROIsize, xc, yc, zc\n",
      "\n",
      "(49, 49, 49)\n",
      "49.423475162232556\n",
      "24.71173758111628\n",
      "24.71173758111628\n",
      "24.711737581116267\n",
      "... material mapping element 13/4388\n",
      "numpy.shape(ROI), ROIsize, xc, yc, zc\n",
      "\n",
      "(50, 49, 49)\n",
      "49.423475162232556\n",
      "24.71173758111628\n",
      "24.71173758111628\n",
      "24.711737581116267\n",
      "... material mapping element 14/4388\n",
      "numpy.shape(ROI), ROIsize, xc, yc, zc\n",
      "\n",
      "(49, 49, 49)\n",
      "49.423475162232556\n",
      "24.71173758111628\n",
      "24.71173758111628\n",
      "24.711737581116267\n",
      "... material mapping element 15/4388\n",
      "numpy.shape(ROI), ROIsize, xc, yc, zc\n",
      "\n",
      "(50, 49, 49)\n",
      "49.423475162232556\n",
      "24.71173758111628\n",
      "24.71173758111628\n",
      "24.711737581116267\n",
      "... material mapping element 16/4388\n",
      "numpy.shape(ROI), ROIsize, xc, yc, zc\n",
      "\n",
      "(49, 49, 49)\n",
      "49.423475162232556\n",
      "24.71173758111628\n",
      "24.71173758111628\n",
      "24.711737581116267\n",
      "... material mapping element 17/4388\n",
      "numpy.shape(ROI), ROIsize, xc, yc, zc\n",
      "\n",
      "(50, 50, 49)\n",
      "49.423475162232556\n",
      "24.71173758111628\n",
      "24.71173758111628\n",
      "24.711737581116267\n",
      "... material mapping element 18/4388\n",
      "numpy.shape(ROI), ROIsize, xc, yc, zc\n",
      "\n",
      "(50, 49, 49)\n",
      "49.423475162232556\n",
      "24.71173758111628\n",
      "24.71173758111628\n",
      "24.711737581116267\n",
      "... material mapping element 19/4388\n",
      "numpy.shape(ROI), ROIsize, xc, yc, zc\n",
      "\n",
      "(50, 49, 49)\n",
      "49.423475162232556\n",
      "24.71173758111628\n",
      "24.71173758111628\n",
      "24.711737581116267\n",
      "... material mapping element 20/4388\n",
      "numpy.shape(ROI), ROIsize, xc, yc, zc\n",
      "\n",
      "(49, 49, 49)\n",
      "49.423475162232556\n",
      "24.71173758111628\n",
      "24.71173758111628\n",
      "24.711737581116267\n",
      "... material mapping element 21/4388\n",
      "numpy.shape(ROI), ROIsize, xc, yc, zc\n",
      "\n",
      "(50, 49, 49)\n",
      "49.423475162232556\n",
      "24.71173758111628\n",
      "24.71173758111628\n",
      "24.711737581116267\n",
      "... material mapping element 22/4388\n",
      "numpy.shape(ROI), ROIsize, xc, yc, zc\n",
      "\n",
      "(49, 49, 50)\n",
      "49.423475162232556\n",
      "24.71173758111628\n",
      "24.71173758111628\n",
      "24.711737581116267\n",
      "... material mapping element 23/4388\n",
      "numpy.shape(ROI), ROIsize, xc, yc, zc\n",
      "\n",
      "(49, 49, 49)\n",
      "49.423475162232556\n",
      "24.71173758111628\n",
      "24.71173758111628\n",
      "24.711737581116267\n"
     ]
    },
    {
     "ename": "ValueError",
     "evalue": "operands could not be broadcast together with shapes (49,49,49) (49,49,35) ",
     "output_type": "error",
     "traceback": [
      "\u001B[0;31m---------------------------------------------------------------------------\u001B[0m",
      "\u001B[0;31mValueError\u001B[0m                                Traceback (most recent call last)",
      "Cell \u001B[0;32mIn[9], line 1\u001B[0m\n\u001B[0;32m----> 1\u001B[0m \u001B[43mmappNR\u001B[49m\u001B[38;5;241;43m.\u001B[39;49m\u001B[43mHFE_mapping_trans\u001B[49m\u001B[43m(\u001B[49m\u001B[43mbone\u001B[49m\u001B[43m,\u001B[49m\u001B[43m \u001B[49m\u001B[43mInput\u001B[49m\u001B[43m)\u001B[49m\n",
      "File \u001B[0;32m~/Documents/01_Icotec/04_Code/mapping_noRot.py:72\u001B[0m, in \u001B[0;36mHFE_mapping_trans\u001B[0;34m(bone, inp)\u001B[0m\n\u001B[1;32m     69\u001B[0m elsets[\u001B[38;5;124m\"\u001B[39m\u001B[38;5;124mBONE\u001B[39m\u001B[38;5;124m\"\u001B[39m]\u001B[38;5;241m.\u001B[39mappend(elem)\n\u001B[1;32m     70\u001B[0m elems[elem]\u001B[38;5;241m.\u001B[39mset_elset(\u001B[38;5;124m'\u001B[39m\u001B[38;5;124mBONE\u001B[39m\u001B[38;5;124m'\u001B[39m)\n\u001B[0;32m---> 72\u001B[0m BVTVbone \u001B[38;5;241m=\u001B[39m \u001B[43mutils\u001B[49m\u001B[38;5;241;43m.\u001B[39;49m\u001B[43mcomputeBVTV_onephase\u001B[49m\u001B[43m(\u001B[49m\n\u001B[1;32m     73\u001B[0m \u001B[43m    \u001B[49m\u001B[43mcog\u001B[49m\u001B[43m,\u001B[49m\u001B[43m \u001B[49m\u001B[43mSpacing\u001B[49m\u001B[43m,\u001B[49m\u001B[43m \u001B[49m\u001B[43mROI_BVTV_size\u001B[49m\u001B[43m,\u001B[49m\u001B[43m \u001B[49m\u001B[43mBVTVscaled\u001B[49m\u001B[43m,\u001B[49m\u001B[43m \u001B[49m\u001B[43mMASK_array\u001B[49m\u001B[43m,\u001B[49m\u001B[43m \u001B[49m\u001B[43mPHIbone\u001B[49m\n\u001B[1;32m     74\u001B[0m \u001B[43m\u001B[49m\u001B[43m)\u001B[49m\n\u001B[1;32m     75\u001B[0m BVTVbone_FE \u001B[38;5;241m=\u001B[39m utils\u001B[38;5;241m.\u001B[39mcomputeBVTV_FEel(\n\u001B[1;32m     76\u001B[0m     cog, Spacing, FEelSize, BVTVscaled, MASK_array\n\u001B[1;32m     77\u001B[0m )\n\u001B[1;32m     79\u001B[0m RHOb[elem] \u001B[38;5;241m=\u001B[39m BVTVbone\u001B[38;5;241m*\u001B[39m\u001B[38;5;241m0.651\u001B[39m\u001B[38;5;241m+\u001B[39m\u001B[38;5;241m0.05646\u001B[39m  \u001B[38;5;66;03m# Schenk et al. 2022\u001B[39;00m\n",
      "File \u001B[0;32m~/Documents/01_Icotec/04_Code/utils_SA.py:467\u001B[0m, in \u001B[0;36mcomputeBVTV_onephase\u001B[0;34m(cog, Spacing, ROIsize_mm, imarray, mask, phi)\u001B[0m\n\u001B[1;32m    462\u001B[0m ROImask_sphere \u001B[38;5;241m=\u001B[39m sphere_array(numpy\u001B[38;5;241m.\u001B[39mshape(ROI), ROIsize \u001B[38;5;241m/\u001B[39m \u001B[38;5;241m2\u001B[39m, [xc, yc, zc])\n\u001B[1;32m    464\u001B[0m \u001B[38;5;66;03m# Overly the ROImask_sphere with the ROI_mask\u001B[39;00m\n\u001B[1;32m    465\u001B[0m \u001B[38;5;66;03m# All voxel containing a 2 are inside the sphere and will be used to calculate the BV/TV\u001B[39;00m\n\u001B[1;32m    466\u001B[0m \u001B[38;5;66;03m# take alle voxel entries inside the intersection between the two masks for BVTV calculation\u001B[39;00m\n\u001B[0;32m--> 467\u001B[0m BVTVimg \u001B[38;5;241m=\u001B[39m ROI[\u001B[43mROImask_sphere\u001B[49m\u001B[43m \u001B[49m\u001B[38;5;241;43m+\u001B[39;49m\u001B[43m \u001B[49m\u001B[43mROI_mask\u001B[49m \u001B[38;5;241m==\u001B[39m \u001B[38;5;241m2\u001B[39m]\n\u001B[1;32m    469\u001B[0m \u001B[38;5;66;03m# The mean over whole sphere gives the BVTV\u001B[39;00m\n\u001B[1;32m    470\u001B[0m mean_BVTV \u001B[38;5;241m=\u001B[39m numpy\u001B[38;5;241m.\u001B[39mround(numpy\u001B[38;5;241m.\u001B[39mmean(BVTVimg), \u001B[38;5;241m2\u001B[39m)\n",
      "\u001B[0;31mValueError\u001B[0m: operands could not be broadcast together with shapes (49,49,49) (49,49,35) "
     ]
    }
   ],
   "source": [
    "\n",
    "mappNR.HFE_mapping_trans(bone, Input)"
   ],
   "metadata": {
    "collapsed": false
   }
  },
  {
   "cell_type": "code",
   "execution_count": null,
   "outputs": [],
   "source": [
    "# Write final input file\n",
    "mappNR.HFE_inp_creator(Input)\n",
    "if not write_output:\n",
    "    os.remove(Input['FEA_loc'] + Input['Model_Code'] + Input['Screw'] + '_elsets.inp')\n",
    "    os.remove(Input['FEA_loc'] + Input['Model_Code'] + Input['Screw'] + '_materials.inp')\n",
    "    os.remove(Input['FEA_loc'] + Input['Model_Code'] + '_mesh.inp')\n",
    "#    os.remove(Input['FEA_loc'] + 'transformation_' + Input['Model_Code'] + Input['Screw'] + '.tfm')"
   ],
   "metadata": {
    "collapsed": false
   }
  },
  {
   "cell_type": "code",
   "execution_count": null,
   "outputs": [],
   "source": [
    "tRun = time.time()-t1\n",
    "if tRun >= 3600:\n",
    "    print('Execution time: ' + str(int(tRun/3600)) + ' h ' + str(int(np.mod(tRun, 3600)/60)) + ' min '+ str(round(np.mod(tRun, 60), 1)) + ' sec.')\n",
    "elif tRun >= 60:\n",
    "    print('Execution time: ' + str(int(tRun/60)) + ' min '+ str(round(np.mod(tRun, 60), 1)) + ' sec.')\n",
    "else:\n",
    "    print('Execution time: ' + str(round(tRun, 1)) + ' sec.')"
   ],
   "metadata": {
    "collapsed": false
   }
  }
 ],
 "metadata": {
  "kernelspec": {
   "display_name": "Python 3",
   "language": "python",
   "name": "python3"
  },
  "language_info": {
   "codemirror_mode": {
    "name": "ipython",
    "version": 2
   },
   "file_extension": ".py",
   "mimetype": "text/x-python",
   "name": "python",
   "nbconvert_exporter": "python",
   "pygments_lexer": "ipython2",
   "version": "2.7.6"
  }
 },
 "nbformat": 4,
 "nbformat_minor": 0
}
