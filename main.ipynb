{
 "cells": [
  {
   "cell_type": "code",
   "execution_count": 13,
   "metadata": {
    "collapsed": true
   },
   "outputs": [],
   "source": [
    "import ReadRawMHD as rR\n",
    "import test_delete_ as test\n",
    "import numpy as np\n",
    "import matplotlib.pyplot as plt\n",
    "import SimpleITK as sitk\n",
    "import time\n",
    "t1 = time.time()"
   ]
  },
  {
   "cell_type": "code",
   "execution_count": 14,
   "outputs": [],
   "source": [
    "# # # # # Input # # # # #\n",
    "# Input imaging data\n",
    "sample = 'Pilot3'  # sample folder\n",
    "file_bone = 'XCT_Icotec_S130672_L5_intact_planned.mhd'  # gray value bone ct scan\n",
    "file_inst = 'ICOTEC_S130672_L5_implants_XCTres.mhd'  # segmented screw scan"
   ],
   "metadata": {
    "collapsed": false
   }
  },
  {
   "cell_type": "code",
   "execution_count": 15,
   "outputs": [],
   "source": [
    "# # # # # Input # # # # #\n",
    "# Input FEA data\n",
    "file_stl = 'mesh.stl'\n",
    "file_dummyMesh = 'mesh.inp'  # contains nodes and elements\n",
    "file_dummyInp = 'Pilot3_mesh.inp'"
   ],
   "metadata": {
    "collapsed": false
   }
  },
  {
   "cell_type": "code",
   "execution_count": 16,
   "outputs": [],
   "source": [
    "# Specify file locations\n",
    "path_project = '/home/biomech/Documents/01_Icotec/'  # General project folder\n",
    "path_ct = path_project + '01_Experiments/02_Scans/' + sample + '/04_Registered/'  # Folder of CT data\n",
    "path_fea = path_project + '02_FEA/99_Tests/' + sample + '/'  # Folder of FEA files\n",
    "# Include general path for mesh/template later\n",
    "info = sample + '.txt'  # .txt file containing info about landmarks. Specific structure"
   ],
   "metadata": {
    "collapsed": false
   }
  },
  {
   "cell_type": "code",
   "execution_count": null,
   "outputs": [],
   "source": [
    "# Load data\n",
    "im0 = sitk.ReadImage(path_ct + file_bone)  # load as sitk\n",
    "im0_seg = rR.zeros_and_ones(rR.load_itk(path_ct + file_bone)[0], 320)  # here threshold!!!!!!!!!!!!!!!!!!!!!!!!!!!!\n",
    "imD = rR.load_itk(path_ct + file_inst)  # screw image\n",
    "with open(path_ct + info, 'r') as f:\n",
    "    content = f.read()\n",
    "ori = content.split('Origin: ')[1].split('\\n')[0]\n",
    "ori = np.array([int(ori.split(' ')[0]), int(ori.split(' ')[1]), int(ori.split(' ')[2])])\n",
    "p1P = content.split('positive x axis: ')[1].split('\\n')[0]\n",
    "p1P = np.array([int(p1P.split(' ')[0]), int(p1P.split(' ')[1]), int(p1P.split(' ')[2])])\n",
    "p1N = content.split('negative x axis: ')[1].split('\\n')[0]\n",
    "p1N = np.array([int(p1N.split(' ')[0]), int(p1N.split(' ')[1]), int(p1N.split(' ')[2])])"
   ],
   "metadata": {
    "collapsed": false
   }
  },
  {
   "cell_type": "code",
   "execution_count": null,
   "outputs": [],
   "source": [
    "# # # # # Input # # # # #\n",
    "# Define screw vector\n",
    "lineT = rR.axis3D(imD[0], 670, 1100, 'x')  # if starting from screw tip towards head, add (-) in next line\n",
    "del imD\n",
    "v3 = -lineT.vector  # z-axis = screw axis, found by function. Specify +/-!!"
   ],
   "metadata": {
    "collapsed": false
   }
  },
  {
   "cell_type": "code",
   "execution_count": null,
   "outputs": [],
   "source": [
    "# Compute matrix\n",
    "v2 = np.cross(v3, p1P-p1N)/np.linalg.norm(np.cross(v3, p1P-p1N))  # y-axis\n",
    "v1 = np.cross(v2, v3)  # x-axis\n",
    "M = np.vstack((np.append(v1, ori[0]), np.append(v2, ori[1]), np.append(v3, ori[2]), np.array([0, 0, 0, 1])))"
   ],
   "metadata": {
    "collapsed": false
   }
  },
  {
   "cell_type": "code",
   "execution_count": null,
   "outputs": [],
   "source": [
    "# Check coordinate system\n",
    "# z-axis (blue) should point from screw head (origin) towards screw tip (dot)\n",
    "# y-axis (green) should be perpendicular to screw-rotAxis plane and point upwards (against loading direction)\n",
    "# x-axis (red): right-handed coordinate system\n",
    "plt.figure()\n",
    "ax = plt.axes(projection='3d')\n",
    "fact = 100\n",
    "for i in range(-0, 5):\n",
    "    ax.scatter3D(ori[0]+i*fact*v1[0], ori[1]+i*fact*v1[1], ori[2]+i*fact*v1[2], c='r', alpha=1)\n",
    "    ax.scatter3D(ori[0]+i*fact*v2[0], ori[1]+i*fact*v2[1], ori[2]+i*fact*v2[2], c='g', alpha=1)\n",
    "    ax.scatter3D(ori[0]+i*fact*v3[0], ori[1]+i*fact*v3[1], ori[2]+i*fact*v3[2], c='b', alpha=1)\n",
    "ax.scatter3D(p1P[0], p1P[1], p1P[2], c='b')\n",
    "ax.scatter3D([0, 1500], [0, 1500], [0, 1500], alpha=0)\n",
    "ax.scatter3D(686, 480, 177, c='k', alpha=1)  # Ti tip\n",
    "ax.set_xlabel('x')\n",
    "ax.set_ylabel('y')\n",
    "ax.set_zlabel('z')\n",
    "plt.show()"
   ],
   "metadata": {
    "collapsed": false
   }
  },
  {
   "cell_type": "code",
   "execution_count": null,
   "outputs": [],
   "source": [
    "bone = {}\n",
    "bone['SampleName'] = path_ct + file_bone  # File for mapping\n",
    "stl = path_fea + file_stl\n",
    "dummyMesh = path_fea + file_dummyMesh\n",
    "#dummyInp = path_fea + file_dummyInp\n",
    "bone = test.readInpBoneDummy(bone, dummyMesh)  # Read bone mesh from abaqus. Read elements, nodes\n",
    "del dummyMesh\n",
    "bone = test.boneMeshMask(bone, path_fea, stl, 0.0607, sample + '_mask.mhd')  # Create mask from abaqus bone mesh\n",
    "mask = test.ct.load_itk(path_fea + sample + '_mask.mhd')\n",
    "bone = test.load_BVTVdata(bone, path_ct + file_bone)\n",
    "bone['Bone_Mask'] = np.zeros(bone['BVTVscaled'].shape)"
   ],
   "metadata": {
    "collapsed": false
   }
  },
  {
   "cell_type": "code",
   "execution_count": null,
   "outputs": [],
   "source": [
    "# Read mask\n",
    "imMask = sitk.ReadImage(path_fea + sample + '_mask.mhd')\n",
    "imMask_np = np.transpose(sitk.GetArrayFromImage(imMask), [2, 1, 0])\n",
    "#im0.SetOrigin([0, 0, 0])\n",
    "# Define rotation and translation\n",
    "[theta1, theta2, theta3] = rR.rotation_angles_from_matrix(M[:3, :3], 'zyx')\n",
    "theta2 = -theta2 + np.pi  # WHY NOT TRUE FROM BEGINNING HERE??????????????????????????????\n",
    "center = np.array([imMask_np.shape[0]/2, imMask_np.shape[1]/2, 0]) * imMask.GetSpacing()\n",
    "trans = M[:3, 3] * imMask.GetSpacing() - center"
   ],
   "metadata": {
    "collapsed": false
   }
  },
  {
   "cell_type": "code",
   "execution_count": null,
   "outputs": [],
   "source": [
    "# Write transformation file\n",
    "f = open(path_fea + 'transformation_' + sample + '.tfm', \"w\")\n",
    "f.write(\n",
    "    \"#Insight Transform File V1.0\\n\"\n",
    "    \"#Transform 0\\n\"\n",
    "    \"Transform: CompositeTransform_double_3_3\\n\"\n",
    "    \"#Transform 1\\n\"\n",
    "    \"Transform: Euler3DTransform_double_3_3\\n\"\n",
    "    \"Parameters:  \" + f'{theta1}' + \" \" + f'{theta2}' + \" \" + f'{theta3}'\n",
    "    + \" \" + f'{trans[0]}' + \" \" + f'{trans[1]}' + \" \" + f'{trans[2]}' + \"\\n\"  # transformation\n",
    "    \"FixedParameters: \" + f'{center[0]}' + \" \" + f'{center[1]}' + \" \" + f'{center[2]}' + \" 0\\n\")  # CoR\n",
    "f.close()"
   ],
   "metadata": {
    "collapsed": false
   }
  },
  {
   "cell_type": "code",
   "execution_count": null,
   "outputs": [],
   "source": [
    "# Apply transformation to mask using the inverse transformation\n",
    "bone['Transform'] = sitk.ReadTransform(path_fea + 'transformation_' + sample + '.tfm')\n",
    "bone['Transform_inv'] = bone['Transform'].GetInverse()\n",
    "imMask_trans = sitk.Resample(imMask, im0, bone['Transform_inv'], sitk.sitkNearestNeighbor, 0.0, im0.GetPixelID())\n",
    "sitk.WriteImage(imMask_trans, path_fea + sample + '_mask_trans.mhd')\n",
    "sitk.WriteImage(im0, path_fea + sample + '_CT.mhd')\n",
    "del im0"
   ],
   "metadata": {
    "collapsed": false
   }
  },
  {
   "cell_type": "code",
   "execution_count": null,
   "outputs": [],
   "source": [
    "# BVTV segmentation / calibration HR-pQCT to uCT\n",
    "bone['MASK_array_T'] = np.transpose(sitk.GetArrayFromImage(imMask_trans), [2, 1, 0])\n",
    "bone['BVTVscaled'] = im0_seg*0.651+0.05646 # scaling factor/intercept from Schenk et al. 2022, has to be discussed w Ph"
   ],
   "metadata": {
    "collapsed": false
   }
  },
  {
   "cell_type": "code",
   "execution_count": null,
   "outputs": [],
   "source": [
    "test.HFE_mapping_trans(bone, path_fea + 'elsets.inp', path_fea + 'materials.inp')\n",
    "print('\\n\\n\\ndone')"
   ],
   "metadata": {
    "collapsed": false
   }
  },
  {
   "cell_type": "code",
   "execution_count": null,
   "outputs": [],
   "source": [
    "sliceNo = 350\n",
    "plt.imshow(bone['BVTVscaled'][:, sliceNo, :] + bone['MASK_array_T'][:, sliceNo, :])"
   ],
   "metadata": {
    "collapsed": false
   }
  },
  {
   "cell_type": "code",
   "execution_count": null,
   "outputs": [],
   "source": [
    "#test.IndexTracker(bone['BVTVscaled']+bone['MASK_array_T'])"
   ],
   "metadata": {
    "collapsed": false
   }
  },
  {
   "cell_type": "code",
   "execution_count": null,
   "outputs": [],
   "source": [
    "print('Execution time: ' + str(int((time.time()-t1)/60)) + ' min '+ str(round(np.mod(time.time()-t1, 60), 1)) + ' sec.')"
   ],
   "metadata": {
    "collapsed": false
   }
  }
 ],
 "metadata": {
  "kernelspec": {
   "display_name": "Python 3",
   "language": "python",
   "name": "python3"
  },
  "language_info": {
   "codemirror_mode": {
    "name": "ipython",
    "version": 2
   },
   "file_extension": ".py",
   "mimetype": "text/x-python",
   "name": "python",
   "nbconvert_exporter": "python",
   "pygments_lexer": "ipython2",
   "version": "2.7.6"
  }
 },
 "nbformat": 4,
 "nbformat_minor": 0
}
