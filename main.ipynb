{
 "cells": [
  {
   "cell_type": "code",
   "execution_count": null,
   "metadata": {
    "collapsed": true
   },
   "outputs": [],
   "source": [
    "import ReadRawMHD as rR\n",
    "import test_delete_ as test\n",
    "import numpy as np\n",
    "import matplotlib.pyplot as plt\n",
    "import SimpleITK as sitk\n",
    "import time\n",
    "import os\n",
    "t1 = time.time()"
   ]
  },
  {
   "cell_type": "code",
   "execution_count": null,
   "outputs": [],
   "source": [
    "# # # # # Input # # # # #\n",
    "# Input imaging data\n",
    "model_code = '00_Pilot3'  # FEA model name\n",
    "sample_code = '00_Pilot3'  # contains number and sample name, e.g. 00_Pilot3.\n",
    "screw = 'T'  # T or P, site from experiment. Two input files will be generated for each site\n",
    "file_bone = 'XCT_Icotec_S130672_L5_intact_planned.mhd'  # gray value bone ct scan\n",
    "file_inst = 'ICOTEC_S130672_L5_implants_XCTres.mhd'  # segmented screw scan"
   ],
   "metadata": {
    "collapsed": false
   }
  },
  {
   "cell_type": "code",
   "execution_count": null,
   "outputs": [],
   "source": [
    "# # # # # Input # # # # #\n",
    "# Input FEA data\n",
    "file_stl = model_code + '_mesh.stl'\n",
    "file_dummyMesh = model_code + '_mesh.inp'  # contains nodes and elements\n",
    "#file_dummyInp = 'Pilot3_mesh.inp'"
   ],
   "metadata": {
    "collapsed": false
   }
  },
  {
   "cell_type": "code",
   "execution_count": null,
   "outputs": [],
   "source": [
    "# Specify file locations\n",
    "sample_no, sample = sample_code.split('_')  # sample name and number\n",
    "path_project = '/home/biomech/Documents/01_Icotec/'  # General project folder\n",
    "path_ct = path_project + '01_Experiments/02_Scans/' + sample + '/04_Registered/'  # Folder of CT data\n",
    "path_fea = path_project + '02_FEA/99_Tests/' + sample + '/' + sample_code + '/'  # Folder of FEA files\n",
    "# Include general path for mesh/template later\n",
    "info = sample + screw + '.txt'  # .txt file containing info about landmarks. Specific structure"
   ],
   "metadata": {
    "collapsed": false
   }
  },
  {
   "cell_type": "code",
   "execution_count": null,
   "outputs": [],
   "source": [
    "# Write mesh input file\n",
    "test.write_mesh(path_fea + sample_code + '_model.inp', path_fea + file_dummyMesh)  # Original input file, path for mesh.inp"
   ],
   "metadata": {
    "collapsed": false
   }
  },
  {
   "cell_type": "code",
   "execution_count": null,
   "outputs": [],
   "source": [
    "# Load data\n",
    "imD = rR.load_itk(path_ct + file_inst)  # screw image\n",
    "with open(path_ct + info, 'r') as f:\n",
    "    content = f.read()\n",
    "ori = content.split('Origin: ')[1].split('\\n')[0]\n",
    "ori = np.array([int(ori.split(' ')[0]), int(ori.split(' ')[1]), int(ori.split(' ')[2])])\n",
    "p1P = content.split('positive x axis: ')[1].split('\\n')[0]\n",
    "p1P = np.array([int(p1P.split(' ')[0]), int(p1P.split(' ')[1]), int(p1P.split(' ')[2])])\n",
    "p1N = content.split('negative x axis: ')[1].split('\\n')[0]\n",
    "p1N = np.array([int(p1N.split(' ')[0]), int(p1N.split(' ')[1]), int(p1N.split(' ')[2])])"
   ],
   "metadata": {
    "collapsed": false
   }
  },
  {
   "cell_type": "code",
   "execution_count": null,
   "outputs": [],
   "source": [
    "# Plot screws\n",
    "plt.imshow(np.sum(imD[0], axis=1))  # xray with both screw on it, needed to define ROI for screw axis extraction"
   ],
   "metadata": {
    "collapsed": false
   }
  },
  {
   "cell_type": "code",
   "execution_count": null,
   "outputs": [],
   "source": [
    "# # # # # Input # # # # #\n",
    "# Define screw vector\n",
    "v3 = []\n",
    "if screw == 'T' or screw == '':\n",
    "    lineT = rR.axis3D(imD[0], 670, 1100, 'x')  # if starting from screw tip towards head, add (-) to v3\n",
    "    v3 = -lineT.vector  # z-axis = screw axis, found by function. Specify +/-!!\n",
    "elif screw == 'P':\n",
    "    lineT = rR.axis3D(imD[0], 0, 600, 'x')  # if starting from screw tip towards head, add (-) to v3\n",
    "    v3 = lineT.vector  # z-axis = screw axis, found by function. Specify +/-!!\n",
    "del imD"
   ],
   "metadata": {
    "collapsed": false
   }
  },
  {
   "cell_type": "code",
   "execution_count": null,
   "outputs": [],
   "source": [
    "# Compute matrix\n",
    "v2 = np.cross(v3, p1P-p1N)/np.linalg.norm(np.cross(v3, p1P-p1N))  # y-axis\n",
    "v1 = np.cross(v2, v3)  # x-axis\n",
    "M = np.vstack((np.append(v1, ori[0]), np.append(v2, ori[1]), np.append(v3, ori[2]), np.array([0, 0, 0, 1])))\n",
    "print(M)"
   ],
   "metadata": {
    "collapsed": false
   }
  },
  {
   "cell_type": "code",
   "execution_count": null,
   "outputs": [],
   "source": [
    "# Check coordinate system\n",
    "# z-axis (blue) should point from screw head (origin) towards screw tip (dot)\n",
    "# y-axis (green) should be perpendicular to screw-rotAxis plane and point upwards (against loading direction)\n",
    "# x-axis (red): right-handed coordinate system\n",
    "%matplotlib notebook\n",
    "plt.figure()\n",
    "ax = plt.axes(projection='3d')\n",
    "fact = 100\n",
    "for i in range(-0, 5):\n",
    "    ax.scatter3D(ori[0]+i*fact*v1[0], ori[1]+i*fact*v1[1], ori[2]+i*fact*v1[2], c='r', alpha=1)\n",
    "    ax.scatter3D(ori[0]+i*fact*v2[0], ori[1]+i*fact*v2[1], ori[2]+i*fact*v2[2], c='g', alpha=1)\n",
    "    ax.scatter3D(ori[0]+i*fact*v3[0], ori[1]+i*fact*v3[1], ori[2]+i*fact*v3[2], c='b', alpha=1)\n",
    "ax.scatter3D(p1P[0], p1P[1], p1P[2], c='b')\n",
    "ax.scatter3D([0, 1500], [0, 1500], [0, 1500], alpha=0)\n",
    "ax.scatter3D(686, 480, 177, c='k', alpha=1)  # Ti tip\n",
    "ax.set_xlabel('x')\n",
    "ax.set_ylabel('y')\n",
    "ax.set_zlabel('z')\n",
    "plt.show()"
   ],
   "metadata": {
    "collapsed": false
   }
  },
  {
   "cell_type": "code",
   "execution_count": null,
   "outputs": [],
   "source": [
    "bone = {}\n",
    "stl = path_fea + file_stl"
   ],
   "metadata": {
    "collapsed": false
   }
  },
  {
   "cell_type": "code",
   "execution_count": null,
   "outputs": [],
   "source": [
    "dummyMesh = path_fea + file_dummyMesh"
   ],
   "metadata": {
    "collapsed": false
   }
  },
  {
   "cell_type": "code",
   "execution_count": null,
   "outputs": [],
   "source": [
    "bone = test.readInpBoneDummy(bone, dummyMesh)  # Read bone mesh from abaqus. Read elements, nodes"
   ],
   "metadata": {
    "collapsed": false
   }
  },
  {
   "cell_type": "code",
   "execution_count": null,
   "outputs": [],
   "source": [
    "bone = test.boneMeshMask(bone, path_fea, stl, 0.0607, sample_code + screw + '_mask.mhd')  # Create mask from abaqus bone mesh"
   ],
   "metadata": {
    "collapsed": false
   }
  },
  {
   "cell_type": "code",
   "execution_count": null,
   "outputs": [],
   "source": [
    "bone = test.load_BVTVdata(bone, path_ct + file_bone)"
   ],
   "metadata": {
    "collapsed": false
   }
  },
  {
   "cell_type": "code",
   "execution_count": null,
   "outputs": [],
   "source": [
    "# Read mask\n",
    "imMask = sitk.ReadImage(path_fea + sample_code + screw + '_mask.mhd')\n",
    "imMask_np = np.transpose(sitk.GetArrayFromImage(imMask), [2, 1, 0])\n",
    "bone[\"GreyImage\"].SetOrigin([0, 0, 0])\n",
    "#im_grey_gauss=sitk.GetImageFromArray(np.transpose(bone['GreyImage'],[2,1,0]))  # save gauss image\n",
    "#sitk.WriteImage(im_grey_gauss,path_ct + sample_code + 'Gauss.mhd')\n",
    "# Define rotation and translation\n",
    "[theta1, theta2, theta3] = rR.rotation_angles_from_matrix(M[:3, :3], 'zyx')\n",
    "theta2 = -theta2 + np.pi  # +pi because arc-tan no unique solution. WHY NEGATIVE, because mask[:, ::, :] reshaped?\n",
    "center = np.array([imMask_np.shape[0]/2, imMask_np.shape[1]/2, 0]) * imMask.GetSpacing()\n",
    "trans = M[:3, 3] * imMask.GetSpacing() - center"
   ],
   "metadata": {
    "collapsed": false
   }
  },
  {
   "cell_type": "code",
   "execution_count": null,
   "outputs": [],
   "source": [
    "# Write transformation file\n",
    "f = open(path_fea + 'transformation_' + sample_code + screw + '.tfm', \"w\")\n",
    "f.write(\n",
    "    \"#Insight Transform File V1.0\\n\"\n",
    "    \"#Transform 0\\n\"\n",
    "    \"Transform: CompositeTransform_double_3_3\\n\"\n",
    "    \"#Transform 1\\n\"\n",
    "    \"Transform: Euler3DTransform_double_3_3\\n\"\n",
    "    \"Parameters:  \" + f'{theta1}' + \" \" + f'{theta2}' + \" \" + f'{theta3}'\n",
    "    + \" \" + f'{trans[0]}' + \" \" + f'{trans[1]}' + \" \" + f'{trans[2]}' + \"\\n\"  # transformation\n",
    "    \"FixedParameters: \" + f'{center[0]}' + \" \" + f'{center[1]}' + \" \" + f'{center[2]}' + \" 0\\n\")  # CoR\n",
    "f.close()"
   ],
   "metadata": {
    "collapsed": false
   }
  },
  {
   "cell_type": "code",
   "execution_count": null,
   "outputs": [],
   "source": [
    "# Apply transformation to mask using the inverse transformation\n",
    "bone['Transform'] = sitk.ReadTransform(path_fea + 'transformation_' + sample_code + screw + '.tfm')\n",
    "bone['Transform_inv'] = bone['Transform'].GetInverse()\n",
    "imMask_trans = sitk.Resample(imMask, bone['GreyImage'], bone['Transform_inv'], sitk.sitkNearestNeighbor, 0.0, bone['GreyImage'].GetPixelID())\n",
    "# Delete some files / variables to save memory\n",
    "os.remove(path_fea + sample_code + screw + '_mask.mhd')  #---here mask removing test)\n",
    "os.remove(path_fea + sample_code + screw + '_mask.raw')  #---here mask removing test)\n",
    "img_seg=sitk.GetImageFromArray(np.transpose(bone['BVTVscaled'],[2,1,0]))\n",
    "img_seg.SetOrigin(bone[\"GreyImage\"].GetOrigin())\n",
    "img_seg.SetSpacing(bone[\"GreyImage\"].GetSpacing())\n",
    "sitk.WriteImage(img_seg,path_fea+'Test_seg.mhd')\n",
    "del bone['GreyImage']"
   ],
   "metadata": {
    "collapsed": false
   }
  },
  {
   "cell_type": "code",
   "execution_count": null,
   "outputs": [],
   "source": [
    "# BVTV segmentation / calibration HR-pQCT to uCT\n",
    "bone['MASK_array_T'] = np.transpose(sitk.GetArrayFromImage(imMask_trans), [2, 1, 0])\n",
    "# scaling factor/intercept from Schenk et al. 2022, has to be discussed w Ph"
   ],
   "metadata": {
    "collapsed": false
   }
  },
  {
   "cell_type": "code",
   "execution_count": null,
   "outputs": [],
   "source": [
    "elsets = path_fea + sample_code + 'elsets' + screw + '.inp'\n",
    "materials = path_fea + sample_code +  'materials' + screw + '.inp'\n",
    "rR.blockPrint()\n",
    "test.HFE_mapping_trans(bone, elsets, materials)\n",
    "rR.enablePrint()"
   ],
   "metadata": {
    "collapsed": false
   }
  },
  {
   "cell_type": "code",
   "execution_count": null,
   "outputs": [],
   "source": [
    "sliceNo = 460\n",
    "plt.imshow(bone['BVTVscaled'][:, sliceNo, :] + bone['MASK_array_T'][:, sliceNo, :])\n",
    "\n",
    "plt.show()"
   ],
   "metadata": {
    "collapsed": false
   }
  },
  {
   "cell_type": "code",
   "execution_count": null,
   "outputs": [],
   "source": [
    "# Write final input file\n",
    "template = path_fea + sample_code + '_model.inp'  # orig is template file\n",
    "test.HFE_inp_creator(template, elsets, materials, path_fea + sample_code + screw + '_P', 'PEEK')\n",
    "test.HFE_inp_creator(template, elsets, materials, path_fea + sample_code + screw + '_T', 'Ti')\n",
    "# Clean up folder\n",
    "os.remove(elsets)\n",
    "os.remove(materials)"
   ],
   "metadata": {
    "collapsed": false
   }
  },
  {
   "cell_type": "code",
   "execution_count": null,
   "outputs": [],
   "source": [
    "print('Execution time: ' + str(int((time.time()-t1)/60)) + ' min '+ str(round(np.mod(time.time()-t1, 60), 1)) + ' sec.')"
   ],
   "metadata": {
    "collapsed": false
   }
  }
 ],
 "metadata": {
  "kernelspec": {
   "display_name": "Python 3",
   "language": "python",
   "name": "python3"
  },
  "language_info": {
   "codemirror_mode": {
    "name": "ipython",
    "version": 2
   },
   "file_extension": ".py",
   "mimetype": "text/x-python",
   "name": "python",
   "nbconvert_exporter": "python",
   "pygments_lexer": "ipython2",
   "version": "2.7.6"
  }
 },
 "nbformat": 4,
 "nbformat_minor": 0
}
