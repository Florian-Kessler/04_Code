{
 "cells": [
  {
   "cell_type": "code",
   "execution_count": null,
   "metadata": {
    "collapsed": true
   },
   "outputs": [],
   "source": [
    "import ReadRawMHD as rR\n",
    "import mapping as mapp\n",
    "import numpy as np\n",
    "import matplotlib.pyplot as plt\n",
    "import SimpleITK as sitk\n",
    "import time\n",
    "import os\n",
    "t1 = time.time()"
   ]
  },
  {
   "cell_type": "code",
   "execution_count": null,
   "outputs": [],
   "source": [
    "# # # # # Input # # # # #\n",
    "# Input imaging data\n",
    "models = ['00_L50_S50_D30', '01_L50_S50_D35', '02_L50_S50_D40', '03_L50_S50_D45', '04_L50_S50_D27',\n",
    "          '10_L50_S00_D30', '11_L50_S00_D35', '12_L50_S00_D40', '13_L50_S00_D45', '14_L50_S00_D27', '15_L50_S00_D44',\n",
    "          '31_L50_S50_D35', '43_L50_S00_D45',\n",
    "          '50_L50_S00_D30', '55_L50_S00_D30',\n",
    "          '63_L50_S50_D45', '74_L50_S50_D45', '83_L50_S50_D45']\n",
    "model_code = models[10]  # FEA model name\n",
    "print('Model: ' + str(model_code))\n",
    "sample_code = '05_Pilot5'  # Experimental sample. contains number and sample name, e.g. 00_Pilot3\n",
    "ExpScrew = 'T'  # T or P, site from experiment. Two input files (SimScrew Ti and PEEK) will always be generated\n",
    "\n",
    "file_bone = ''\n",
    "file_inst = ''\n",
    "if sample_code == '03_Pilot3':\n",
    "    file_bone = 'XCT_Icotec_S130672_L5_intact_planned.mhd'  # gray value bone ct scan, gauss filter applied  pilot3\n",
    "    file_inst = 'ICOTEC_S130672_L5_implants_XCTres.mhd'  # segmented screw scan  pilot3\n",
    "elif sample_code == '04_Pilot4':\n",
    "    file_bone = 'Icotec_S130672_L4_intact_crop.mhd'  # pilot4\n",
    "    file_inst = 'Icotec_S130672_L4_mask_crop.mhd'  # pilot4\n",
    "elif sample_code == '05_Pilot5':\n",
    "    file_bone = 'Icotec_S130684_L4_intact_crop.mhd'  # pilot5\n",
    "    file_inst = 'Icotec_S130684_L4_mask_crop.mhd' # pilot5"
   ],
   "metadata": {
    "collapsed": false
   }
  },
  {
   "cell_type": "code",
   "execution_count": null,
   "outputs": [],
   "source": [
    "# Specify file locations\n",
    "#---sample_no, sample = sample_code.split('_')  # sample name and number\n",
    "path_project = '/home/biomech/Documents/01_Icotec/'  # General project folder\n",
    "path_ct = path_project + '01_Experiments/02_Scans/' + sample_code + '/04_Registered/'  # Folder of CT data\n",
    "path_fea = path_project + '02_FEA/98_Pilots/' + sample_code + '/' + model_code + '/'  # Folder of FEA files\n",
    "# Include general path for mesh/template later\n",
    "info = sample_code + ExpScrew + '_info.txt'  # .txt file containing info about landmarks. Specific structure"
   ],
   "metadata": {
    "collapsed": false
   }
  },
  {
   "cell_type": "code",
   "execution_count": null,
   "outputs": [],
   "source": [
    "# # # # # Input # # # # #\n",
    "# Input FEA data\n",
    "Input = {}\n",
    "Input['Project_Folder'] = path_project\n",
    "Input['FEA_loc'] = path_fea  # path to FEA files\n",
    "Input['Model_Code'] = model_code  # model code (FEA model name)\n",
    "Input['Screw'] = ExpScrew  # which site of scan will be processed\n",
    "Input['Resolution'] = 0.0606995  # scan resolution, should be 0.0606995 for HR-pQCT\n",
    "\n",
    "Input['Load_mode'] = 'd'  # no effect 'd' or 'f', displacement or force controlled\n",
    "Input['F_dir'] = '-'  # force direction (negative corresponds to experiment, positive = inverse). Input: '-' or '+'\n",
    "Input['F_max'] = 150  # peak load\n",
    "Input['F_min'] = 10  # valley load, not included yet!!!!!!!!!!!!!!!!!!!!!!!!!\n",
    "Input['Cycles'] = 2  # how many cycles to simulate, not included yet!!!!!!!!!!!!!!!!!!!!!!!!!\n",
    "Input['d_dir'] = '-'  # no effect\n",
    "Input['d_max'] = '10'  # no effect\n",
    "Input['Friction'] = 0.2  # friction between screw and bone, not included yet!!!!!!!!!!!!!!!!!!!!!!!!!\n",
    "Input['ElType'] = 'Quadratic'  # element type quadratic or linear C3D8 = linear, not included yet!!!!!!!!!!!!!!!!!!!!!!!!!\n",
    "Input['Mapping_Diameter'] = 2.5  # diameter of sphere for mapping, in mm. should be larger than element size\n",
    "\n",
    "# parametrise screw length? --> different mesh sizes // ROI? // step size?\n",
    "\n",
    "# Check if folder exists, otherwise create it\n",
    "isExist = os.path.exists(Input['FEA_loc'])\n",
    "if not isExist:\n",
    "    os.makedirs(Input['FEA_loc'])\n",
    "    print('New directory created: ' + Input['FEA_loc'])\n",
    "\n",
    "# Submit on cortex or ubelix?\n",
    "# -> Other parameters as e-mail, runtime, memory etc. can be changed in the template file\n",
    "Input['Submit'] = 'ubelix'\n",
    "mapp.write_submit(Input)\n",
    "\n",
    "# Take screw axis or points from PMMA area\n",
    "screw_axis = 1\n",
    "\n",
    "# Write output images? segmented image and mask, for visual check\n",
    "write_output = 0"
   ],
   "metadata": {
    "collapsed": false
   }
  },
  {
   "cell_type": "code",
   "execution_count": null,
   "outputs": [],
   "source": [
    "# Write mesh input file\n",
    "mapp.write_mesh(Input)  # Original input file, path for mesh.inp"
   ],
   "metadata": {
    "collapsed": false
   }
  },
  {
   "cell_type": "code",
   "execution_count": null,
   "outputs": [],
   "source": [
    "# Load data screw information from .txt file\n",
    "# About file:\n",
    "# Origin is where screw enters bone, will be origin of bone-mesh\n",
    "# Rotation axis positive x axis: Point on rotation axis (where bone is fixed in testing machine), positive x-coordinate\n",
    "# Rotation axis negative x axis: Point on rotation axis (where bone is fixed in testing machine), negative x-coordinate\n",
    "imD = rR.load_itk(path_ct + file_inst)  # screw image\n",
    "with open(path_ct + info, 'r') as f:\n",
    "    content = f.read()\n",
    "ori = content.split('Origin: ')[1].split('\\n')[0]\n",
    "ori = np.array([int(ori.split(' ')[0]), int(ori.split(' ')[1]), int(ori.split(' ')[2])])\n",
    "p1P = content.split('positive x axis: ')[1].split('\\n')[0]\n",
    "p1P = np.array([int(p1P.split(' ')[0]), int(p1P.split(' ')[1]), int(p1P.split(' ')[2])])\n",
    "p1N = content.split('negative x axis: ')[1].split('\\n')[0]\n",
    "p1N = np.array([int(p1N.split(' ')[0]), int(p1N.split(' ')[1]), int(p1N.split(' ')[2])])\n",
    "screw_start = np.array(int(content.split('Screw detection start (head): ')[1].split('\\n')[0]))\n",
    "screw_stop = np.array(int(content.split('Screw detection stop (tip): ')[1].split('\\n')[0]))\n",
    "print(screw_start)\n",
    "print(screw_stop)"
   ],
   "metadata": {
    "collapsed": false
   }
  },
  {
   "cell_type": "code",
   "execution_count": null,
   "outputs": [],
   "source": [
    "# # # # # Input # # # # #\n",
    "# Define screw vector\n",
    "v3 = []\n",
    "if ExpScrew == 'T':\n",
    "    #lineT = rR.axis3D(imD[0], screw, 1100, 'x')  # if starting from screw tip towards head, add (-) to v3  pilot3 -\n",
    "    #lineT = rR.axis3D(imD[0], 333, 618, 'x')  # pilot4 +\n",
    "    #lineT = rR.axis3D(imD[0], 332, 579, 'x')  # pilot5 +\n",
    "    if screw_axis:\n",
    "        if screw_start > screw_stop:\n",
    "            lineT = rR.axis3D(imD[0], screw_stop, screw_start, 'x')\n",
    "            v3 = -lineT.vector\n",
    "        elif screw_start < screw_stop:\n",
    "            lineT = rR.axis3D(imD[0], screw_start, screw_stop, 'x')\n",
    "            v3 = lineT.vector\n",
    "elif ExpScrew == 'P':\n",
    "    #lineT = rR.axis3D(imD[0], 0, 600, 'x')  # if starting from screw tip towards head, add (-) to v3  pilot3 +\n",
    "    #lineT = rR.axis3D(imD[0], 763, 1320, 'x')  # pilot4 -\n",
    "    #lineT = rR.axis3D(imD[0], 760, 1311, 'x')  # pilot5 -\n",
    "    if screw_axis:\n",
    "        if screw_start > screw_stop:\n",
    "            lineT = rR.axis3D(imD[0], screw_stop, screw_start, 'x')\n",
    "            v3 = -lineT.vector  # z-axis = screw axis, found by function. Specify +/-!!!!!!!\n",
    "        elif screw_start < screw_stop:\n",
    "            lineT = rR.axis3D(imD[0], screw_start, screw_stop, 'x')\n",
    "            v3 = lineT.vector\n",
    "del imD"
   ],
   "metadata": {
    "collapsed": false
   }
  },
  {
   "cell_type": "code",
   "execution_count": null,
   "outputs": [],
   "source": [
    "# Compute matrix\n",
    "v2 = np.cross(v3, p1P-p1N)/np.linalg.norm(np.cross(v3, p1P-p1N))  # y-axis\n",
    "v1 = np.cross(v2, v3)  # x-axis\n",
    "M = np.vstack((np.append(v1, ori[0]), np.append(v2, ori[1]), np.append(v3, ori[2]), np.array([0, 0, 0, 1])))\n",
    "print(M)"
   ],
   "metadata": {
    "collapsed": false
   }
  },
  {
   "cell_type": "code",
   "execution_count": null,
   "outputs": [],
   "source": [
    "# Check coordinate system\n",
    "# z-axis (blue) should point from screw head (origin) towards screw tip (dot)\n",
    "# y-axis (green) should be perpendicular to screw-rotAxis plane and point upwards (against loading direction)\n",
    "# x-axis (red): right-handed coordinate system\n",
    "%matplotlib notebook\n",
    "plt.figure()\n",
    "ax = plt.axes(projection='3d')\n",
    "fact = 100\n",
    "for i in range(0, 5):\n",
    "    ax.scatter3D(ori[0]+i*fact*v1[0], ori[1]+i*fact*v1[1], ori[2]+i*fact*v1[2], c='r', alpha=1)\n",
    "    ax.scatter3D(ori[0]+i*fact*v2[0], ori[1]+i*fact*v2[1], ori[2]+i*fact*v2[2], c='g', alpha=1)\n",
    "    ax.scatter3D(ori[0]+i*fact*v3[0], ori[1]+i*fact*v3[1], ori[2]+i*fact*v3[2], c='b', alpha=1)\n",
    "ax.scatter3D([0, 1500], [0, 1500], [0, 1500], alpha=0)\n",
    "ax.scatter3D(p1P[0], p1P[1], p1P[2], c='k')\n",
    "ax.scatter3D(p1N[0], p1N[1], p1N[2], c='k')\n",
    "ax.scatter3D(ori[0], ori[1], ori[2], c='c')\n",
    "#ax.scatter3D(879, 486, 799, c='m')  # tip 621 476 806\n",
    "#ax.scatter3D(879, 100, 799, c='r')  # force direction (negative!)\n",
    "ax.set_xlabel('x')\n",
    "ax.set_ylabel('y')\n",
    "ax.set_zlabel('z')\n",
    "plt.show()"
   ],
   "metadata": {
    "collapsed": false
   }
  },
  {
   "cell_type": "code",
   "execution_count": null,
   "outputs": [],
   "source": [
    "bone = {}"
   ],
   "metadata": {
    "collapsed": false
   }
  },
  {
   "cell_type": "code",
   "execution_count": null,
   "outputs": [],
   "source": [
    "bone = mapp.readInpBoneDummy(bone, Input)  # Read bone mesh from abaqus. Read elements, nodes"
   ],
   "metadata": {
    "collapsed": false
   }
  },
  {
   "cell_type": "code",
   "execution_count": null,
   "outputs": [],
   "source": [
    "bone = mapp.boneMeshMask(bone, Input)  # Create mask from abaqus bone mesh"
   ],
   "metadata": {
    "collapsed": false
   }
  },
  {
   "cell_type": "code",
   "execution_count": null,
   "outputs": [],
   "source": [
    "bone = mapp.load_BVTVdata(bone, path_ct + file_bone)"
   ],
   "metadata": {
    "collapsed": false
   }
  },
  {
   "cell_type": "code",
   "execution_count": null,
   "outputs": [],
   "source": [
    "# Read mask\n",
    "imMask = sitk.ReadImage(Input['FEA_loc'] + Input['Model_Code'] + Input['Screw'] + '_mask.mhd')\n",
    "imMask_np = np.transpose(sitk.GetArrayFromImage(imMask), [2, 1, 0])\n",
    "bone[\"GreyImage\"].SetOrigin([0, 0, 0])\n",
    "# Define rotation and translation\n",
    "[theta1, theta2, theta3] = rR.rotation_angles_from_matrix(M[:3, :3], 'zyx')\n",
    "theta2 = -theta2 + np.pi  # +pi because arc-tan has no unique solution. NEGATIVE, because mask[:, ::, :] reshaped\n",
    "center = np.array([imMask_np.shape[0]/2, imMask_np.shape[1]/2, 0]) * imMask.GetSpacing()\n",
    "trans = M[:3, 3] * imMask.GetSpacing() - center"
   ],
   "metadata": {
    "collapsed": false
   }
  },
  {
   "cell_type": "code",
   "execution_count": null,
   "outputs": [],
   "source": [
    "# Write transformation file\n",
    "f = open(path_fea + 'transformation_' + model_code + ExpScrew + '.tfm', \"w\")\n",
    "f.write(\n",
    "    \"#Insight Transform File V1.0\\n\"\n",
    "    \"#Transform 0\\n\"\n",
    "    \"Transform: CompositeTransform_double_3_3\\n\"\n",
    "    \"#Transform 1\\n\"\n",
    "    \"Transform: Euler3DTransform_double_3_3\\n\"\n",
    "    \"Parameters:  \" + f'{theta1}' + \" \" + f'{theta2}' + \" \" + f'{theta3}'\n",
    "    + \" \" + f'{trans[0]}' + \" \" + f'{trans[1]}' + \" \" + f'{trans[2]}' + \"\\n\"  # transformation\n",
    "    \"FixedParameters: \" + f'{center[0]}' + \" \" + f'{center[1]}' + \" \" + f'{center[2]}' + \" 0\\n\")  # CoR\n",
    "f.close()"
   ],
   "metadata": {
    "collapsed": false
   }
  },
  {
   "cell_type": "code",
   "execution_count": null,
   "outputs": [],
   "source": [
    "# Apply transformation to mask using the inverse transformation\n",
    "bone['Transform'] = sitk.ReadTransform(path_fea + 'transformation_' + model_code + ExpScrew + '.tfm')\n",
    "bone['Transform_inv'] = bone['Transform'].GetInverse()\n",
    "imMask_trans = sitk.Resample(imMask, bone['GreyImage'], bone['Transform_inv'], sitk.sitkNearestNeighbor, 0.0, bone['GreyImage'].GetPixelID())\n",
    "# Delete some files / variables to save memory\n",
    "\n",
    "if write_output:\n",
    "    img_seg=sitk.GetImageFromArray(np.transpose(bone['BVTVscaled'], [2, 1, 0]))\n",
    "    img_seg.SetOrigin(bone[\"GreyImage\"].GetOrigin())\n",
    "    img_seg.SetSpacing(bone[\"GreyImage\"].GetSpacing())\n",
    "    sitk.WriteImage(img_seg, path_fea + sample_code + '_seg.mhd')\n",
    "    print('Segmented image saved.')\n",
    "    imMask_trans.SetOrigin(bone[\"GreyImage\"].GetOrigin())\n",
    "    imMask_trans.SetSpacing(bone[\"GreyImage\"].GetSpacing())\n",
    "    sitk.WriteImage(imMask_trans, path_fea + model_code + '_' + ExpScrew + '_maskTrans.mhd')\n",
    "    print('Transformed mask saved.')\n",
    "    print('Original mask saved.')\n",
    "    del img_seg\n",
    "else:\n",
    "    os.remove(path_fea + model_code + ExpScrew + '_mask.mhd')\n",
    "    os.remove(path_fea + model_code + ExpScrew + '_mask.raw')\n",
    "del bone['GreyImage']"
   ],
   "metadata": {
    "collapsed": false
   }
  },
  {
   "cell_type": "code",
   "execution_count": null,
   "outputs": [],
   "source": [
    "# BVTV segmentation / calibration HR-pQCT to uCT\n",
    "bone['MASK_array_T'] = np.transpose(sitk.GetArrayFromImage(imMask_trans), [2, 1, 0])\n",
    "# scaling factor/intercept from Schenk et al. 2022, has to be discussed w Ph"
   ],
   "metadata": {
    "collapsed": false
   }
  },
  {
   "cell_type": "code",
   "execution_count": null,
   "outputs": [],
   "source": [
    "mapp.HFE_mapping_trans(bone, Input)"
   ],
   "metadata": {
    "collapsed": false
   }
  },
  {
   "cell_type": "code",
   "execution_count": null,
   "outputs": [],
   "source": [
    "sliceNo = ori[1]-100\n",
    "plt.figure()\n",
    "plt.imshow(bone['BVTVscaled'][:, sliceNo, :] + bone['MASK_array_T'][:, sliceNo, :])\n",
    "plt.show()"
   ],
   "metadata": {
    "collapsed": false
   }
  },
  {
   "cell_type": "code",
   "execution_count": null,
   "outputs": [],
   "source": [
    "sliceNo = ori[1]\n",
    "plt.figure()\n",
    "plt.imshow(bone['BVTVscaled'][:, sliceNo, :] + bone['MASK_array_T'][:, sliceNo, :])\n",
    "plt.show()"
   ],
   "metadata": {
    "collapsed": false
   }
  },
  {
   "cell_type": "code",
   "execution_count": null,
   "outputs": [],
   "source": [
    "sliceNo = ori[1]+100\n",
    "plt.figure()\n",
    "plt.imshow(bone['BVTVscaled'][:, sliceNo, :] + bone['MASK_array_T'][:, sliceNo, :])\n",
    "plt.show()"
   ],
   "metadata": {
    "collapsed": false
   }
  },
  {
   "cell_type": "code",
   "execution_count": null,
   "outputs": [],
   "source": [
    "# Write final input file\n",
    "mapp.HFE_inp_creator(Input)\n",
    "if not write_output:\n",
    "    os.remove(Input['FEA_loc'] + Input['Model_Code'] + Input['Screw'] + '_elsets.inp')\n",
    "    os.remove(Input['FEA_loc'] + Input['Model_Code'] + Input['Screw'] + '_materials.inp')\n",
    "    os.remove(Input['FEA_loc'] + Input['Model_Code'] + '_mesh.inp')\n",
    "    os.remove(Input['FEA_loc'] + 'transformation_' + Input['Model_Code'] + Input['Screw'] + '.tfm')"
   ],
   "metadata": {
    "collapsed": false
   }
  },
  {
   "cell_type": "code",
   "execution_count": null,
   "outputs": [],
   "source": [
    "tRun = time.time()-t1\n",
    "if tRun >= 3600:\n",
    "    print('Execution time: ' + str(int(tRun/3600)) + ' h ' + str(int(np.mod(tRun, 3600)/60)) + ' min '+ str(round(np.mod(tRun, 60), 1)) + ' sec.')\n",
    "elif tRun >= 60:\n",
    "    print('Execution time: ' + str(int(tRun/60)) + ' min '+ str(round(np.mod(tRun, 60), 1)) + ' sec.')\n",
    "else:\n",
    "    print('Execution time: ' + str(round(tRun, 1)) + ' sec.')"
   ],
   "metadata": {
    "collapsed": false
   }
  }
 ],
 "metadata": {
  "kernelspec": {
   "display_name": "Python 3",
   "language": "python",
   "name": "python3"
  },
  "language_info": {
   "codemirror_mode": {
    "name": "ipython",
    "version": 2
   },
   "file_extension": ".py",
   "mimetype": "text/x-python",
   "name": "python",
   "nbconvert_exporter": "python",
   "pygments_lexer": "ipython2",
   "version": "2.7.6"
  }
 },
 "nbformat": 4,
 "nbformat_minor": 0
}
