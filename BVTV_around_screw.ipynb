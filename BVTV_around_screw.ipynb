{
 "cells": [
  {
   "cell_type": "code",
   "execution_count": 1,
   "metadata": {
    "collapsed": true
   },
   "outputs": [],
   "source": [
    "import mapping_noRot as mappNR\n",
    "import numpy as np\n",
    "import matplotlib.pyplot as plt\n",
    "import matplotlib.cm as cm\n",
    "import SimpleITK as sitk\n",
    "import time\n",
    "import os\n",
    "import ReadRawMHD as rR\n",
    "t1 = time.time()"
   ]
  },
  {
   "cell_type": "code",
   "execution_count": 2,
   "outputs": [],
   "source": [
    "sample_list = ['S130684_L2_left', 'S130684_L2_right',\n",
    "               'S131318_L1_left', 'S131318_L1_right', 'S131318_L2_left', 'S131318_L2_right',\n",
    "               'S131318_L3_left', 'S131318_L3_right', 'S131318_L4_left', 'S131318_L4_right',\n",
    "               'S131318_L5_left', 'S131318_L5_right',\n",
    "               'S131788_L1_left', 'S131788_L1_right', 'S131788_L2_left', 'S131788_L2_right',\n",
    "               'S131788_L3_left', 'S131788_L3_right', 'S131788_L4_left', 'S131788_L4_right',\n",
    "               'S131835_L1_left', 'S131835_L1_right', 'S131835_L2_left', 'S131835_L2_right',\n",
    "               'S131835_L3_left', 'S131835_L3_right', 'S131835_L4_left', 'S131835_L4_right',\n",
    "               'S131840_L1_left', 'S131840_L1_right', 'S131840_L2_left', 'S131840_L2_right',\n",
    "               'S131840_L3_left', 'S131840_L3_right']"
   ],
   "metadata": {
    "collapsed": false
   }
  },
  {
   "cell_type": "code",
   "execution_count": 3,
   "outputs": [],
   "source": [
    "sample_code = sample_list[2]\n",
    "path_project = '/home/biomech/Documents/01_Icotec/'  # General project folder\n",
    "path_ct = path_project + '01_Experiments/02_Scans/' + sample_code + '/04_Registered/'  # Folder of CT dat\n",
    "file_bone = [filename for filename in os.listdir(path_ct + '/') if filename.endswith('image.mhd') and str(sample_code) in filename][0]\n",
    "file = path_ct + file_bone\n",
    "res = 0.0606995"
   ],
   "metadata": {
    "collapsed": false
   }
  },
  {
   "cell_type": "code",
   "execution_count": 4,
   "outputs": [
    {
     "name": "stdout",
     "output_type": "stream",
     "text": [
      "-741\n",
      "0\n",
      "99\n"
     ]
    }
   ],
   "source": [
    "# Area to evaluate\n",
    "r_mm = 6  # radius in mm\n",
    "r = int(np.rint(r_mm / res))\n",
    "length = np.rint(np.array([-45, 0]) / res).astype(int)\n",
    "drill = int(1.4/res)  # radius drill\n",
    "print(min(length))\n",
    "print(max(length))\n",
    "print(r)"
   ],
   "metadata": {
    "collapsed": false
   }
  },
  {
   "cell_type": "code",
   "execution_count": 5,
   "outputs": [
    {
     "name": "stdout",
     "output_type": "stream",
     "text": [
      "[312 531 862]\n",
      "121\n"
     ]
    }
   ],
   "source": [
    "bone_grey = sitk.ReadImage(file)\n",
    "bone_img = np.transpose(sitk.GetArrayFromImage(bone_grey), [2, 1, 0])\n",
    "bone_bvtv = rR.zeros_and_ones(bone_img, 320)\n",
    "check_image = rR.zeros_and_ones(bone_img, 320)*2\n",
    "ori = abs((np.array(bone_grey.GetOrigin())/res).astype(int))\n",
    "print(ori)\n",
    "print(ori[2]-741)"
   ],
   "metadata": {
    "collapsed": false
   }
  },
  {
   "cell_type": "code",
   "execution_count": 6,
   "outputs": [
    {
     "name": "stdout",
     "output_type": "stream",
     "text": [
      "BV/BV: 0.144\n"
     ]
    }
   ],
   "source": [
    "b=0\n",
    "o=0\n",
    "i=0\n",
    "j=0\n",
    "for z in range(min(length), max(length)):\n",
    "    for y in range(-r, r):\n",
    "        for x in range(-r, r):\n",
    "            check_image[x+ori[0], y+ori[1], z+ori[2]] = 1\n",
    "            if r**2 >= x**2 + y**2 > drill**2:\n",
    "                i = i+1\n",
    "                if bone_bvtv[x+ori[0], y+ori[1], z+ori[2]] == 1:\n",
    "                    b = b+1\n",
    "                elif bone_bvtv[x+ori[0], y+ori[1], z+ori[2]] == 0:\n",
    "                    o = o+1\n",
    "                else:\n",
    "                    print('**ERROR**')\n",
    "            else:\n",
    "                j = j+1\n",
    "print('BV/BV: ' + str(round(b/(b+o),3)))"
   ],
   "metadata": {
    "collapsed": false
   }
  },
  {
   "cell_type": "code",
   "execution_count": 8,
   "outputs": [
    {
     "name": "stdout",
     "output_type": "stream",
     "text": [
      "Execution time: 53.9 sec.\n"
     ]
    }
   ],
   "source": [
    "tRun = time.time() - t1\n",
    "if tRun >= 3600:\n",
    "    print('Execution time: ' + str(int(tRun / 3600)) + ' h ' + str(int(np.mod(tRun, 3600) / 60)) + ' min ' +\n",
    "          str(round(np.mod(tRun, 60), 1)) + ' sec.')\n",
    "elif tRun >= 60:\n",
    "    print('Execution time: ' + str(int(tRun / 60)) + ' min ' + str(round(np.mod(tRun, 60), 1)) + ' sec.')\n",
    "else:\n",
    "    print('Execution time: ' + str(round(tRun, 1)) + ' sec.')"
   ],
   "metadata": {
    "collapsed": false
   }
  }
 ],
 "metadata": {
  "kernelspec": {
   "display_name": "Python 3",
   "language": "python",
   "name": "python3"
  },
  "language_info": {
   "codemirror_mode": {
    "name": "ipython",
    "version": 2
   },
   "file_extension": ".py",
   "mimetype": "text/x-python",
   "name": "python",
   "nbconvert_exporter": "python",
   "pygments_lexer": "ipython2",
   "version": "2.7.6"
  }
 },
 "nbformat": 4,
 "nbformat_minor": 0
}
